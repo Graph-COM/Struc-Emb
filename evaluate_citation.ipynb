{
 "cells": [
  {
   "cell_type": "code",
   "execution_count": 148,
   "id": "847ba0c0",
   "metadata": {},
   "outputs": [],
   "source": [
    "dataset = 'pubmed'\n",
    "n_sample = 19717\n",
    "size = 4\n",
    "if size == 4:\n",
    "    dim = 2560\n",
    "elif size == 0.6:\n",
    "    dim = 1024\n",
    "    size = 0.6\n",
    "else:\n",
    "    dim = 4096"
   ]
  },
  {
   "cell_type": "code",
   "execution_count": 149,
   "id": "0ee13e62",
   "metadata": {},
   "outputs": [
    {
     "data": {
      "text/plain": [
       "array([-6.0554058e-04,  5.5575430e-02, -3.8726053e-03, ...,\n",
       "        1.4384700e-03,  7.5403041e-05, -2.1546733e-02], dtype=float32)"
      ]
     },
     "execution_count": 149,
     "metadata": {},
     "output_type": "execute_result"
    }
   ],
   "source": [
    "import numpy as np\n",
    "\n",
    "N, D = n_sample, dim   # ← whatever your total count and embedding dim are\n",
    "sample_embs = np.memmap(\n",
    "    f\"{dataset}/center_{size}B_embedding_0.npy\",\n",
    "    dtype=\"float32\",\n",
    "    mode=\"r\",\n",
    "    shape=(N, D)\n",
    ")\n",
    "sample_embs = np.array(sample_embs)\n",
    "sample_embs[-1]"
   ]
  },
  {
   "cell_type": "code",
   "execution_count": 150,
   "id": "1b312572",
   "metadata": {},
   "outputs": [],
   "source": [
    "import torch\n",
    "data = torch.load(f'{dataset}/processed_data.pt')"
   ]
  },
  {
   "cell_type": "code",
   "execution_count": 151,
   "id": "b88b5aa8",
   "metadata": {},
   "outputs": [],
   "source": [
    "# import numpy as np\n",
    "\n",
    "# N, D = n_sample, dim   # ← whatever your total count and embedding dim are\n",
    "# sample_mp_embs = np.memmap(\n",
    "#     f\"{dataset}/_mp_{size}B_embeddings.npy\",\n",
    "#     dtype=\"float32\",\n",
    "#     mode=\"r\",\n",
    "#     shape=(N, D)\n",
    "# )\n",
    "# sample_mp_embs = np.array(sample_mp_embs)\n",
    "# sample_mp_embs[-1]"
   ]
  },
  {
   "cell_type": "code",
   "execution_count": 152,
   "id": "34c02df8",
   "metadata": {},
   "outputs": [
    {
     "data": {
      "text/plain": [
       "array([-0.0005983 ,  0.03499336, -0.02626722, ...,  0.02484497,\n",
       "        0.0059143 , -0.00855307], dtype=float32)"
      ]
     },
     "execution_count": 152,
     "metadata": {},
     "output_type": "execute_result"
    }
   ],
   "source": [
    "import numpy as np\n",
    "\n",
    "N, D = n_sample, dim   # ← whatever your total count and embedding dim are\n",
    "sample_mp_embs = np.memmap(\n",
    "    f\"{dataset}/shuffle_seed42_concat_4B_embedding_0.npy\",\n",
    "    dtype=\"float32\",\n",
    "    mode=\"r\",\n",
    "    shape=(N, D)\n",
    ")\n",
    "sample_mp_embs = np.array(sample_mp_embs)\n",
    "sample_mp_embs[-1]"
   ]
  },
  {
   "cell_type": "code",
   "execution_count": 154,
   "id": "7259de64",
   "metadata": {},
   "outputs": [
    {
     "data": {
      "text/plain": [
       "array([-0.00063237,  0.0423477 , -0.02295643, ...,  0.02072941,\n",
       "        0.00581864, -0.01233335], dtype=float32)"
      ]
     },
     "execution_count": 154,
     "metadata": {},
     "output_type": "execute_result"
    }
   ],
   "source": [
    "import numpy as np\n",
    "\n",
    "N, D = n_sample, dim   # ← whatever your total count and embedding dim are\n",
    "sample_mp_context_embs = np.memmap(\n",
    "    f\"{dataset}/_instruct_mp_context_{size}B_embeddings.npy\",\n",
    "    dtype=\"float32\",\n",
    "    mode=\"r\",\n",
    "    shape=(N, D)\n",
    ")\n",
    "sample_mp_context_embs = np.array(sample_mp_context_embs)\n",
    "sample_mp_context_embs[-1]"
   ]
  },
  {
   "cell_type": "code",
   "execution_count": 155,
   "id": "02cf643f",
   "metadata": {},
   "outputs": [],
   "source": [
    "# import numpy as np\n",
    "\n",
    "# N, D = n_sample, dim   # ← whatever your total count and embedding dim are\n",
    "# sample_concat_embs = np.memmap(\n",
    "#     f\"{dataset}/concat_{size}B_embedding_0.npy\",\n",
    "#     dtype=\"float32\",\n",
    "#     mode=\"r\",\n",
    "#     shape=(N, D)\n",
    "# )\n",
    "# sample_concat_embs = np.array(sample_concat_embs)\n",
    "# sample_concat_embs[-1]"
   ]
  },
  {
   "cell_type": "code",
   "execution_count": 156,
   "id": "568005cd",
   "metadata": {},
   "outputs": [
    {
     "data": {
      "text/plain": [
       "array([-0.00061926,  0.03853608, -0.01803219, ...,  0.02562713,\n",
       "       -0.00235657, -0.00826717], dtype=float32)"
      ]
     },
     "execution_count": 156,
     "metadata": {},
     "output_type": "execute_result"
    }
   ],
   "source": [
    "import numpy as np\n",
    "\n",
    "N, D = n_sample, dim   # ← whatever your total count and embedding dim are\n",
    "sample_concat_embs = np.memmap(\n",
    "    f\"{dataset}/shuffle_seed0_concat_4B_embedding_0.npy\",\n",
    "    dtype=\"float32\",\n",
    "    mode=\"r\",\n",
    "    shape=(N, D)\n",
    ")\n",
    "sample_concat_embs = np.array(sample_concat_embs)\n",
    "sample_concat_embs[-1]"
   ]
  },
  {
   "cell_type": "code",
   "execution_count": 157,
   "id": "15a676d6",
   "metadata": {},
   "outputs": [],
   "source": [
    "# import numpy as np\n",
    "\n",
    "# N, D = 12, 2560   # ← whatever your total count and embedding dim are\n",
    "# label_embs = np.memmap(\n",
    "#     \"sportsfit/label_embedding_0.npy\",\n",
    "#     dtype=\"float32\",\n",
    "#     mode=\"r\",\n",
    "#     shape=(N, D)\n",
    "# )\n",
    "# label_embs = np.array(label_embs)"
   ]
  },
  {
   "cell_type": "code",
   "execution_count": 158,
   "id": "e0ca2069",
   "metadata": {},
   "outputs": [],
   "source": [
    "import pickle\n",
    "with open(f\"{dataset}/4o_{dataset}.pkl\", \"rb\") as f:\n",
    "    gpt_pred = pickle.load(f)"
   ]
  },
  {
   "cell_type": "code",
   "execution_count": 159,
   "id": "58e95430",
   "metadata": {},
   "outputs": [
    {
     "data": {
      "text/plain": [
       "3944"
      ]
     },
     "execution_count": 159,
     "metadata": {},
     "output_type": "execute_result"
    }
   ],
   "source": [
    "len(gpt_pred)"
   ]
  },
  {
   "cell_type": "code",
   "execution_count": 160,
   "id": "2047bcb7",
   "metadata": {},
   "outputs": [
    {
     "data": {
      "text/plain": [
       "3944"
      ]
     },
     "execution_count": 160,
     "metadata": {},
     "output_type": "execute_result"
    }
   ],
   "source": [
    "import numpy as np\n",
    "len(np.nonzero(data.test_mask == True))"
   ]
  },
  {
   "cell_type": "code",
   "execution_count": 161,
   "id": "a5c06b00",
   "metadata": {},
   "outputs": [
    {
     "data": {
      "text/plain": [
       "88648"
      ]
     },
     "execution_count": 161,
     "metadata": {},
     "output_type": "execute_result"
    }
   ],
   "source": [
    "import pickle\n",
    "with open(f\"{dataset}/neighbor_texts.pkl\", \"rb\") as f:\n",
    "    neighbors = pickle.load(f)\n",
    "num_neighbors = len(neighbors)\n",
    "num_neighbors"
   ]
  },
  {
   "cell_type": "code",
   "execution_count": 162,
   "id": "ec22609d",
   "metadata": {},
   "outputs": [
    {
     "data": {
      "text/plain": [
       "array([-0.00053018,  0.01628615, -0.03431176, ...,  0.01765601,\n",
       "        0.00973008, -0.01144482], dtype=float32)"
      ]
     },
     "execution_count": 162,
     "metadata": {},
     "output_type": "execute_result"
    }
   ],
   "source": [
    "import numpy as np\n",
    "\n",
    "N, D = num_neighbors, dim   # ← whatever your total count and embedding dim are\n",
    "neighbor_embeddings = np.memmap(\n",
    "    f\"{dataset}/neighbor_{size}B_embedding_0.npy\",\n",
    "    dtype=\"float32\",\n",
    "    mode=\"r\",\n",
    "    shape=(N, D)\n",
    ")\n",
    "neighbor_embeddings = np.array(neighbor_embeddings)\n",
    "neighbor_embeddings[-1]"
   ]
  },
  {
   "cell_type": "code",
   "execution_count": 163,
   "id": "d7b135b0",
   "metadata": {},
   "outputs": [],
   "source": [
    "import numpy as np\n",
    "\n",
    "def self_anchored_weighting(center: np.ndarray, neighbors: np.ndarray) -> np.ndarray:\n",
    "    \"\"\"\n",
    "    Compute self-anchored weighted mean of a center embedding with its neighbors.\n",
    "\n",
    "    Args:\n",
    "        center: (D,) center embedding\n",
    "        neighbors: (N, D) neighbor embeddings\n",
    "\n",
    "    Returns:\n",
    "        (D,) aggregated embedding\n",
    "    \"\"\"\n",
    "    # Normalize for cosine similarity\n",
    "    center_norm = center / np.linalg.norm(center)\n",
    "    neighbors_norm = neighbors / np.linalg.norm(neighbors, axis=1, keepdims=True)\n",
    "\n",
    "    # Cosine similarities between center and neighbors\n",
    "    sims = neighbors_norm @ center_norm  # shape (N,)\n",
    "\n",
    "    # Weighted neighbor sum\n",
    "    weighted_neighbors = np.sum(sims[:, None] * neighbors, axis=0)\n",
    "\n",
    "    # Numerator and denominator\n",
    "    numerator = center + weighted_neighbors\n",
    "    denominator = 1.0 + np.sum(sims)\n",
    "\n",
    "    return numerator / denominator"
   ]
  },
  {
   "cell_type": "code",
   "execution_count": 164,
   "id": "a8bb9eb0",
   "metadata": {},
   "outputs": [],
   "source": [
    "import numpy as np\n",
    "\n",
    "def weighted_neighbor_sum(center: np.ndarray, neighbors: np.ndarray, use_softmax: bool = True) -> np.ndarray:\n",
    "    \"\"\"\n",
    "    Compute weighted sum of neighbor embeddings based on similarity to center embedding.\n",
    "\n",
    "    Args:\n",
    "        center: (D,) center embedding\n",
    "        neighbors: (N, D) neighbor embeddings\n",
    "        use_softmax: whether to normalize weights with softmax (default True)\n",
    "\n",
    "    Returns:\n",
    "        (D,) weighted sum vector\n",
    "    \"\"\"\n",
    "    # Normalize embeddings for cosine similarity\n",
    "    center_norm = center / np.linalg.norm(center)\n",
    "    neighbors_norm = neighbors / np.linalg.norm(neighbors, axis=1, keepdims=True)\n",
    "\n",
    "    # Similarity scores (cosine)\n",
    "    sims = neighbors_norm @ center_norm  # shape (N,)\n",
    "\n",
    "    # Turn similarities into weights\n",
    "    if use_softmax:\n",
    "        exp_sims = np.exp(sims)\n",
    "        weights = exp_sims / np.sum(exp_sims)\n",
    "    else:\n",
    "        weights = sims / np.sum(sims)\n",
    "\n",
    "    # Weighted sum\n",
    "    weighted_sum = weights @ neighbors  # shape (D,)\n",
    "    return weighted_sum"
   ]
  },
  {
   "cell_type": "code",
   "execution_count": 165,
   "id": "43fcda1a",
   "metadata": {},
   "outputs": [],
   "source": [
    "import pickle\n",
    "with open(f\"{dataset}/concat_dict.pkl\", \"rb\") as f:\n",
    "    concat_dict = pickle.load(f)\n",
    "    \n",
    "neighbor_embeddings_combine = np.zeros_like(sample_embs)\n",
    "idx = 0\n",
    "sum = 0\n",
    "for doc_idx, doc in enumerate(concat_dict):\n",
    "    len_neighbor = len(doc['1'])\n",
    "    if len_neighbor > 0:\n",
    "        sum += 1\n",
    "        neighbor_embeddings_combine[doc_idx] = np.mean(neighbor_embeddings[idx:idx+len_neighbor], 0)\n",
    "    idx += len_neighbor"
   ]
  },
  {
   "cell_type": "code",
   "execution_count": 166,
   "id": "fc1a4974",
   "metadata": {},
   "outputs": [],
   "source": [
    "neighbor_embeddings_combine_weighted = np.zeros_like(sample_embs)\n",
    "idx = 0\n",
    "for doc_idx, doc in enumerate(concat_dict):\n",
    "    len_neighbor = len(doc['1'])\n",
    "    if len_neighbor > 0:\n",
    "        neighbor_embeddings_combine_weighted[doc_idx] = weighted_neighbor_sum(sample_embs[doc_idx], neighbor_embeddings[idx:idx+len_neighbor])\n",
    "        # neighbor_embeddings_combine[doc_idx] = np.mean(neighbor_embeddings[idx:idx+len_neighbor], 0)\n",
    "    idx += len_neighbor"
   ]
  },
  {
   "cell_type": "code",
   "execution_count": 167,
   "id": "dc790f0b",
   "metadata": {},
   "outputs": [],
   "source": [
    "weighted_neighbor_center = np.zeros_like(sample_embs)\n",
    "idx = 0\n",
    "for doc_idx, doc in enumerate(concat_dict):\n",
    "    len_neighbor = len(doc['1'])\n",
    "    if len_neighbor > 0:\n",
    "        weighted_neighbor_center[doc_idx] = self_anchored_weighting(sample_embs[doc_idx], neighbor_embeddings[idx:idx+len_neighbor])\n",
    "        # neighbor_embeddings_combine[doc_idx] = np.mean(neighbor_embeddings[idx:idx+len_neighbor], 0)\n",
    "    idx += len_neighbor"
   ]
  },
  {
   "cell_type": "code",
   "execution_count": 168,
   "id": "73b02291",
   "metadata": {},
   "outputs": [],
   "source": [
    "# import pickle\n",
    "# with open(f\"{dataset}/adj.pkl\", \"rb\") as f:\n",
    "#     adj = pickle.load(f)"
   ]
  },
  {
   "cell_type": "code",
   "execution_count": 169,
   "id": "c7b78558",
   "metadata": {},
   "outputs": [],
   "source": [
    "# import pickle\n",
    "# with open(f\"{dataset}/adj.pkl\", \"rb\") as f:\n",
    "#     adj = pickle.load(f)\n",
    "    \n",
    "# neighbor_embeddings_combine = np.zeros_like(sample_embs)\n",
    "# idx = 0\n",
    "# sum = 0\n",
    "# for doc_idx, neighbor in adj.items():\n",
    "#     if len(neighbor) > 0:\n",
    "#         sum += 1\n",
    "#         neighbor_embeddings_combine[doc_idx] = np.mean(sample_embs[neighbor], 0)\n",
    "#     idx += len(neighbor)"
   ]
  },
  {
   "cell_type": "code",
   "execution_count": 170,
   "id": "a4e5d010",
   "metadata": {},
   "outputs": [],
   "source": [
    "# neighbor_embeddings_combine_weighted = np.zeros_like(sample_embs)\n",
    "# idx = 0\n",
    "# for doc_idx, neighbor in adj.items():\n",
    "#     if len(neighbor) > 0:\n",
    "#         neighbor_embeddings_combine_weighted[doc_idx] = weighted_neighbor_sum(sample_embs[doc_idx], sample_embs[neighbor])\n",
    "#         # neighbor_embeddings_combine[doc_idx] = np.mean(neighbor_embeddings[idx:idx+len_neighbor], 0)\n",
    "#     idx += len(neighbor)"
   ]
  },
  {
   "cell_type": "code",
   "execution_count": 171,
   "id": "520371b3",
   "metadata": {},
   "outputs": [],
   "source": [
    "# weighted_neighbor_center = np.zeros_like(sample_embs)\n",
    "# idx = 0\n",
    "# for doc_idx, neighbor in adj.items():\n",
    "#     if len(neighbor) > 0:\n",
    "#         weighted_neighbor_center[doc_idx] = self_anchored_weighting(sample_embs[doc_idx], sample_embs[neighbor])\n",
    "#         # neighbor_embeddings_combine[doc_idx] = np.mean(neighbor_embeddings[idx:idx+len_neighbor], 0)\n",
    "#     idx += len(neighbor)"
   ]
  },
  {
   "cell_type": "code",
   "execution_count": 172,
   "id": "febcbd58",
   "metadata": {},
   "outputs": [],
   "source": [
    "mean_neighbor_center = 0.5 * sample_embs + 0.5 * neighbor_embeddings_combine"
   ]
  },
  {
   "cell_type": "code",
   "execution_count": 173,
   "id": "f76ea54f",
   "metadata": {},
   "outputs": [],
   "source": [
    "import pickle\n",
    "with open(f\"{dataset}/labels.pkl\", \"rb\") as f:\n",
    "    labels = pickle.load(f)"
   ]
  },
  {
   "cell_type": "code",
   "execution_count": 174,
   "id": "20438c4b",
   "metadata": {},
   "outputs": [],
   "source": [
    "import numpy as np\n",
    "from sklearn.metrics.pairwise import cosine_similarity\n",
    "from sklearn.metrics import accuracy_score, f1_score\n",
    "\n",
    "def evaluate_by_cosine(label_embs, sample_embs, ground_truth):\n",
    "    \"\"\"\n",
    "    Evaluate classification accuracy based on cosine similarity to label embeddings.\n",
    "\n",
    "    Args:\n",
    "        label_embs (np.ndarray): shape (num_labels, dim), embeddings of labels\n",
    "        sample_embs (np.ndarray): shape (num_samples, dim), embeddings of samples\n",
    "        ground_truth (list or np.ndarray): shape (num_samples,), true label indices (ints)\n",
    "\n",
    "    Returns:\n",
    "        float: accuracy score\n",
    "    \"\"\"\n",
    "    # Compute cosine similarity: (num_samples, num_labels)\n",
    "    sims = cosine_similarity(sample_embs, label_embs)\n",
    "\n",
    "    # Predicted labels = argmax over label embeddings\n",
    "    preds = np.argmax(sims, axis=1)\n",
    "\n",
    "    # Compute accuracy\n",
    "    acc = accuracy_score(ground_truth, preds)\n",
    "    f1 = f1_score(ground_truth, preds, average='macro')\n",
    "    return acc, f1"
   ]
  },
  {
   "cell_type": "code",
   "execution_count": 175,
   "id": "68cd06c7",
   "metadata": {},
   "outputs": [],
   "source": [
    "# from sklearn.cluster import MiniBatchKMeans\n",
    "# from sklearn.metrics import v_measure_score\n",
    "# import numpy as np\n",
    "\n",
    "# def evaluate_clustering_with_vmeasure_deterministic(embeddings: np.ndarray, labels: list, seed: int = 42):\n",
    "#     \"\"\"\n",
    "#     Evaluate clustering performance deterministically using MiniBatchKMeans and v-measure.\n",
    "\n",
    "#     Args:\n",
    "#         embeddings (np.ndarray): shape (n_samples, embedding_dim)\n",
    "#         labels (list or np.ndarray): ground-truth labels\n",
    "#         seed (int): random seed for reproducibility\n",
    "\n",
    "#     Returns:\n",
    "#         float: v-measure score\n",
    "#     \"\"\"\n",
    "#     unique_labels = np.unique(labels)\n",
    "#     num_clusters = len(unique_labels)\n",
    "\n",
    "#     # Force deterministic KMeans behavior\n",
    "#     kmeans = MiniBatchKMeans(\n",
    "#         n_clusters=num_clusters,\n",
    "#         batch_size=32,\n",
    "#         n_init=10,               # Ensures better stability (default in sklearn >=1.2)\n",
    "#         max_iter=100,            # Fix iterations to ensure consistent fitting\n",
    "#         random_state=seed,       # Controls centroid initialization and batching\n",
    "#         reassignment_ratio=0.0,  # Optional: prevents unnecessary centroid reassignment\n",
    "#     )\n",
    "#     pred_clusters = kmeans.fit_predict(embeddings)\n",
    "\n",
    "#     v_score = v_measure_score(labels, pred_clusters)\n",
    "#     return v_score"
   ]
  },
  {
   "cell_type": "code",
   "execution_count": 176,
   "id": "a973d572",
   "metadata": {},
   "outputs": [],
   "source": [
    "sample_embs = sample_embs[data.test_mask]\n",
    "mean_neighbor_center = mean_neighbor_center[data.test_mask]\n",
    "weighted_neighbor_center = weighted_neighbor_center[data.test_mask]\n",
    "neighbor_embeddings_combine = neighbor_embeddings_combine[data.test_mask]\n",
    "neighbor_embeddings_combine_weighted = neighbor_embeddings_combine_weighted[data.test_mask]"
   ]
  },
  {
   "cell_type": "code",
   "execution_count": 177,
   "id": "29e4cd6d",
   "metadata": {},
   "outputs": [],
   "source": [
    "sample_mp_embs = sample_mp_embs[data.test_mask]\n",
    "sample_mp_context_embs = sample_mp_context_embs[data.test_mask]\n",
    "sample_concat_embs = sample_concat_embs[data.test_mask]"
   ]
  },
  {
   "cell_type": "code",
   "execution_count": 178,
   "id": "1e828dc5",
   "metadata": {},
   "outputs": [
    {
     "data": {
      "text/plain": [
       "3944"
      ]
     },
     "execution_count": 178,
     "metadata": {},
     "output_type": "execute_result"
    }
   ],
   "source": [
    "labels = labels[data.test_mask]\n",
    "test_num = len(labels)\n",
    "test_num"
   ]
  },
  {
   "cell_type": "code",
   "execution_count": 179,
   "id": "2f94a6c9",
   "metadata": {},
   "outputs": [],
   "source": [
    "import random \n",
    "sample_num = data.num_classes * 20\n",
    "random.seed(42)\n",
    "idx = random.sample(range(test_num), sample_num)"
   ]
  },
  {
   "cell_type": "code",
   "execution_count": 180,
   "id": "dfd04fd3",
   "metadata": {},
   "outputs": [],
   "source": [
    "import pickle\n",
    "with open(f\"{dataset}/label_texts.pkl\", \"rb\") as f:\n",
    "    label_texts = pickle.load(f)"
   ]
  },
  {
   "cell_type": "code",
   "execution_count": 181,
   "id": "b72921f0",
   "metadata": {},
   "outputs": [
    {
     "data": {
      "text/plain": [
       "['Diabetes Mellitus Experimental',\n",
       " 'Diabetes Mellitus Type 1',\n",
       " 'Diabetes Mellitus Type 2']"
      ]
     },
     "execution_count": 181,
     "metadata": {},
     "output_type": "execute_result"
    }
   ],
   "source": [
    "label_texts"
   ]
  },
  {
   "cell_type": "code",
   "execution_count": 182,
   "id": "345fffd9",
   "metadata": {},
   "outputs": [],
   "source": [
    "if dataset == 'citeseer':\n",
    "    label_texts = ['Agents',\n",
    "    'machine learning (ML)',\n",
    "    'information retrieval (IR)',\n",
    "    'database (DB)',\n",
    "    'human-computer interaction (HCI)',\n",
    "    'artificial intelligence (AI)']"
   ]
  },
  {
   "cell_type": "code",
   "execution_count": 183,
   "id": "bd649632",
   "metadata": {},
   "outputs": [],
   "source": [
    "import re\n",
    "from typing import Optional, Tuple, Sequence, Any\n",
    "\n",
    "def find_category_in_response(response: Any, categories: Sequence[str]) -> Tuple[Optional[str], Optional[int]]:\n",
    "    \"\"\"\n",
    "    Look for which category from `categories` appears in the response text,\n",
    "    but only if it's explicitly surrounded by:\n",
    "      - single quotes 'xxx'\n",
    "      - double quotes \"xxx\"\n",
    "      - markdown bold **xxx**\n",
    "    Trailing punctuation like .,!?;: is allowed either inside or outside.\n",
    "\n",
    "    Args:\n",
    "        response: Either a ChatCompletionMessage object or a plain string.\n",
    "        categories: List of valid category names.\n",
    "\n",
    "    Returns:\n",
    "        (matched_category, index_in_categories) or (None, -1) if not found.\n",
    "    \"\"\"\n",
    "    # Extract string if it's a ChatCompletionMessage\n",
    "    text = getattr(response, \"content\", response) if not isinstance(response, str) else response\n",
    "    text_lower = text.lower()\n",
    "\n",
    "    for idx, cat in enumerate(categories):\n",
    "        # Allow quotes '' or \"\" or markdown bold **\n",
    "        # Punctuation allowed before/after closing wrapper\n",
    "        pattern = (\n",
    "            rf\"(?:['\\\"]|[*]{{2}})\"                # opening ' or \" or **\n",
    "            rf\"{re.escape(cat.lower())}\"          # category itself\n",
    "            rf\"[.,!?;:]?\"                         # optional punctuation inside\n",
    "            rf\"(?:['\\\"]|[*]{{2}})\"                # closing ' or \" or **\n",
    "            rf\"[.,!?;:]?\"                         # optional punctuation outside\n",
    "        )\n",
    "        if re.search(pattern, text_lower):\n",
    "            return cat, idx\n",
    "\n",
    "    return None, -1"
   ]
  },
  {
   "cell_type": "code",
   "execution_count": 184,
   "id": "f8cc4398",
   "metadata": {},
   "outputs": [
    {
     "name": "stdout",
     "output_type": "stream",
     "text": [
      "Diabetes Mellitus Type 2\n",
      "Diabetes Mellitus Type 1\n",
      "Diabetes Mellitus Experimental\n",
      "Diabetes Mellitus Type 1\n",
      "Diabetes Mellitus Type 1\n",
      "Diabetes Mellitus Experimental\n",
      "Diabetes Mellitus Experimental\n",
      "Diabetes Mellitus Experimental\n",
      "Diabetes Mellitus Type 2\n",
      "Diabetes Mellitus Type 1\n",
      "Diabetes Mellitus Type 2\n",
      "Diabetes Mellitus Type 2\n",
      "Diabetes Mellitus Experimental\n",
      "Diabetes Mellitus Type 2\n",
      "Diabetes Mellitus Type 1\n",
      "Diabetes Mellitus Type 2\n",
      "Diabetes Mellitus Type 1\n",
      "Diabetes Mellitus Experimental\n",
      "Diabetes Mellitus Type 2\n",
      "Diabetes Mellitus Type 2\n",
      "Diabetes Mellitus Type 1\n",
      "Diabetes Mellitus Type 1\n",
      "Diabetes Mellitus Experimental\n",
      "Diabetes Mellitus Type 1\n",
      "Diabetes Mellitus Type 2\n",
      "Diabetes Mellitus Type 1\n",
      "Diabetes Mellitus Type 2\n",
      "Diabetes Mellitus Experimental\n",
      "Diabetes Mellitus Type 2\n",
      "Diabetes Mellitus Type 2\n",
      "Diabetes Mellitus Type 1\n",
      "Diabetes Mellitus Type 1\n",
      "Diabetes Mellitus Type 1\n",
      "Diabetes Mellitus Experimental\n",
      "Diabetes Mellitus Experimental\n",
      "Diabetes Mellitus Type 1\n",
      "Diabetes Mellitus Type 1\n",
      "Diabetes Mellitus Type 2\n",
      "Diabetes Mellitus Type 2\n",
      "Diabetes Mellitus Type 2\n",
      "Diabetes Mellitus Type 1\n",
      "Diabetes Mellitus Type 2\n",
      "Diabetes Mellitus Type 1\n",
      "Diabetes Mellitus Type 1\n",
      "Diabetes Mellitus Type 1\n",
      "Diabetes Mellitus Type 1\n",
      "Diabetes Mellitus Type 2\n",
      "Diabetes Mellitus Type 1\n",
      "Diabetes Mellitus Type 1\n",
      "Diabetes Mellitus Type 1\n",
      "Diabetes Mellitus Type 2\n",
      "Diabetes Mellitus Type 1\n",
      "Diabetes Mellitus Type 1\n",
      "Diabetes Mellitus Experimental\n",
      "Diabetes Mellitus Type 1\n",
      "Diabetes Mellitus Type 1\n",
      "Diabetes Mellitus Type 2\n",
      "Diabetes Mellitus Experimental\n",
      "Diabetes Mellitus Experimental\n",
      "Diabetes Mellitus Type 1\n"
     ]
    }
   ],
   "source": [
    "pred_labels = []\n",
    "for i in idx:\n",
    "    pred_text, pred_label = find_category_in_response(gpt_pred[i], label_texts)\n",
    "    # if category in label_texts:\n",
    "    #     label_pred = label_texts.index(category)\n",
    "    print(pred_text)\n",
    "    pred_labels.append(pred_label)"
   ]
  },
  {
   "cell_type": "code",
   "execution_count": 185,
   "id": "36fa69c8",
   "metadata": {},
   "outputs": [
    {
     "data": {
      "text/plain": [
       "60"
      ]
     },
     "execution_count": 185,
     "metadata": {},
     "output_type": "execute_result"
    }
   ],
   "source": [
    "len(pred_labels)"
   ]
  },
  {
   "cell_type": "code",
   "execution_count": 186,
   "id": "1f223f04",
   "metadata": {},
   "outputs": [
    {
     "data": {
      "text/plain": [
       "(array([], dtype=int64),)"
      ]
     },
     "execution_count": 186,
     "metadata": {},
     "output_type": "execute_result"
    }
   ],
   "source": [
    "np.where(np.array(pred_labels) == -1)"
   ]
  },
  {
   "cell_type": "code",
   "execution_count": 187,
   "id": "e5ad4785",
   "metadata": {},
   "outputs": [],
   "source": [
    "# gpt_pred[idx[200]]"
   ]
  },
  {
   "cell_type": "code",
   "execution_count": 188,
   "id": "b0d7b24c",
   "metadata": {},
   "outputs": [],
   "source": [
    "if dataset == 'citeseer':\n",
    "    pred_labels[3] = 3"
   ]
  },
  {
   "cell_type": "code",
   "execution_count": 189,
   "id": "fe42c998",
   "metadata": {},
   "outputs": [],
   "source": [
    "# import numpy as np\n",
    "# from collections import defaultdict\n",
    "# from typing import Dict, List, Hashable, Tuple, Optional, Sequence, Any\n",
    "\n",
    "# def group_samples_by_class(\n",
    "#     embeddings: np.ndarray,\n",
    "#     sample_idx: np.ndarray,\n",
    "#     class_idx: np.ndarray,\n",
    "#     return_means: bool = True,\n",
    "#     return_stacked: bool = True,\n",
    "#     sort_classes: bool = True,\n",
    "# ) -> Tuple[\n",
    "#     Dict[Hashable, List[int]],\n",
    "#     Optional[Dict[Hashable, np.ndarray]],\n",
    "#     Optional[np.ndarray],   # classes in order\n",
    "#     Optional[np.ndarray]    # mean matrix in same order (K, D)\n",
    "# ]:\n",
    "#     \"\"\"\n",
    "#     Group sample indices by class, and optionally compute mean embeddings.\n",
    "#     Additionally, return (classes_array, mean_matrix) in a deterministic order.\n",
    "\n",
    "#     Args:\n",
    "#         embeddings: (N, D) float array of all embeddings.\n",
    "#         sample_idx: (M,) int array of indices into `embeddings`.\n",
    "#         class_idx:  (M,) array of class ids aligned with `sample_idx`.\n",
    "#         return_means:   If True, compute mean embedding per class.\n",
    "#         return_stacked: If True, also return (classes_array, stacked_mean_matrix).\n",
    "#         sort_classes:   If True, classes are sorted; otherwise, keep first-appearance order.\n",
    "\n",
    "#     Returns:\n",
    "#         class_to_samples: dict {class_id -> [sample indices]}\n",
    "#         class_to_mean:    dict {class_id -> (D,) mean embedding} or None\n",
    "#         classes_array:    (K,) array of class ids in order or None\n",
    "#         mean_matrix:      (K, D) stacked means in the same order as classes_array or None\n",
    "#     \"\"\"\n",
    "#     sample_idx = np.asarray(sample_idx)\n",
    "#     class_idx = np.asarray(class_idx)\n",
    "\n",
    "#     if sample_idx.shape[0] != class_idx.shape[0]:\n",
    "#         raise ValueError(\"sample_idx and class_idx must have the same length.\")\n",
    "\n",
    "#     # 1) Group sample indices by class\n",
    "#     class_to_samples: Dict[Hashable, List[int]] = defaultdict(list)\n",
    "#     for s, c in zip(sample_idx, class_idx):\n",
    "#         class_to_samples[c].append(int(s))\n",
    "\n",
    "#     # 2) Optional: compute class means\n",
    "#     class_to_mean: Optional[Dict[Hashable, np.ndarray]] = None\n",
    "#     if return_means:\n",
    "#         class_to_mean = {\n",
    "#             c: embeddings[np.array(samples, dtype=int)].mean(axis=0)\n",
    "#             for c, samples in class_to_samples.items()\n",
    "#         }\n",
    "\n",
    "#     # 3) Optional: build ordered (classes, mean_matrix)\n",
    "#     classes_array: Optional[np.ndarray] = None\n",
    "#     mean_matrix: Optional[np.ndarray] = None\n",
    "\n",
    "#     if return_stacked and return_means:\n",
    "#         # determine order\n",
    "#         if sort_classes:\n",
    "#             ordered_classes: Sequence[Any] = sorted(class_to_samples.keys())\n",
    "#         else:\n",
    "#             # first-appearance order\n",
    "#             seen = set()\n",
    "#             ordered_classes = []\n",
    "#             for c in class_idx:\n",
    "#                 if c not in seen:\n",
    "#                     seen.add(c)\n",
    "#                     ordered_classes.append(c)\n",
    "\n",
    "#         classes_array = np.array(ordered_classes, dtype=object)\n",
    "#         mean_matrix = np.vstack([class_to_mean[c] for c in ordered_classes])\n",
    "\n",
    "#     return class_to_samples, class_to_mean, classes_array, mean_matrix"
   ]
  },
  {
   "cell_type": "code",
   "execution_count": 190,
   "id": "4ea56a4c",
   "metadata": {},
   "outputs": [],
   "source": [
    "import numpy as np\n",
    "from collections import defaultdict\n",
    "from typing import Dict, List, Hashable, Tuple, Optional, Sequence, Any\n",
    "\n",
    "def group_samples_by_class(\n",
    "    sample_idx: np.ndarray,\n",
    "    class_idx: np.ndarray,\n",
    ") -> Dict[Hashable, List[int]]:\n",
    "    \"\"\"\n",
    "    Group sample indices by class, and optionally compute mean embeddings.\n",
    "    Additionally, return (classes_array, mean_matrix) in a deterministic order.\n",
    "\n",
    "    Args:\n",
    "        embeddings: (N, D) float array of all embeddings.\n",
    "        sample_idx: (M,) int array of indices into `embeddings`.\n",
    "        class_idx:  (M,) array of class ids aligned with `sample_idx`.\n",
    "        return_means:   If True, compute mean embedding per class.\n",
    "        return_stacked: If True, also return (classes_array, stacked_mean_matrix).\n",
    "        sort_classes:   If True, classes are sorted; otherwise, keep first-appearance order.\n",
    "\n",
    "    Returns:\n",
    "        class_to_samples: dict {class_id -> [sample indices]}\n",
    "        class_to_mean:    dict {class_id -> (D,) mean embedding} or None\n",
    "        classes_array:    (K,) array of class ids in order or None\n",
    "        mean_matrix:      (K, D) stacked means in the same order as classes_array or None\n",
    "    \"\"\"\n",
    "    sample_idx = np.asarray(sample_idx)\n",
    "    class_idx = np.asarray(class_idx)\n",
    "\n",
    "    if sample_idx.shape[0] != class_idx.shape[0]:\n",
    "        raise ValueError(\"sample_idx and class_idx must have the same length.\")\n",
    "\n",
    "    # 1) Group sample indices by class\n",
    "    class_to_samples: Dict[Hashable, List[int]] = defaultdict(list)\n",
    "    for s, c in zip(sample_idx, class_idx):\n",
    "        class_to_samples[c].append(int(s))\n",
    "\n",
    "    return class_to_samples"
   ]
  },
  {
   "cell_type": "code",
   "execution_count": 191,
   "id": "43d190f7",
   "metadata": {},
   "outputs": [],
   "source": [
    "def compute_class_means(class_to_samples, class_idx, embeddings, return_means: bool = True,\n",
    "    return_stacked: bool = True,\n",
    "    sort_classes: bool = True):\n",
    "    class_to_mean: Optional[Dict[Hashable, np.ndarray]] = None\n",
    "    if return_means:\n",
    "        class_to_mean = {\n",
    "            c: embeddings[np.array(samples, dtype=int)].mean(axis=0)\n",
    "            for c, samples in class_to_samples.items()\n",
    "        }\n",
    "\n",
    "    # 3) Optional: build ordered (classes, mean_matrix)\n",
    "    classes_array: Optional[np.ndarray] = None\n",
    "    mean_matrix: Optional[np.ndarray] = None\n",
    "\n",
    "    if return_stacked and return_means:\n",
    "        # determine order\n",
    "        if sort_classes:\n",
    "            ordered_classes: Sequence[Any] = sorted(class_to_samples.keys())\n",
    "        else:\n",
    "            # first-appearance order\n",
    "            seen = set()\n",
    "            ordered_classes = []\n",
    "            for c in class_idx:\n",
    "                if c not in seen:\n",
    "                    seen.add(c)\n",
    "                    ordered_classes.append(c)\n",
    "\n",
    "        classes_array = np.array(ordered_classes, dtype=object)\n",
    "        mean_matrix = np.vstack([class_to_mean[c] for c in ordered_classes])\n",
    "\n",
    "        return class_to_mean, mean_matrix\n"
   ]
  },
  {
   "cell_type": "code",
   "execution_count": 192,
   "id": "363ef801",
   "metadata": {},
   "outputs": [],
   "source": [
    "classes_map = group_samples_by_class(idx, pred_labels)\n",
    "means_map, class_means = compute_class_means(classes_map, pred_labels, sample_embs)"
   ]
  },
  {
   "cell_type": "code",
   "execution_count": 193,
   "id": "3e261b6d",
   "metadata": {},
   "outputs": [],
   "source": [
    "means_map_mp, class_means_mp = compute_class_means(classes_map, pred_labels, sample_mp_embs)"
   ]
  },
  {
   "cell_type": "code",
   "execution_count": 194,
   "id": "8bf042bd",
   "metadata": {},
   "outputs": [],
   "source": [
    "means_map_allmean, class_means_allmean = compute_class_means(classes_map, pred_labels, mean_neighbor_center)"
   ]
  },
  {
   "cell_type": "code",
   "execution_count": 195,
   "id": "dda8381e",
   "metadata": {},
   "outputs": [],
   "source": [
    "means_map_weight, class_means_weight = compute_class_means(classes_map, pred_labels, weighted_neighbor_center)"
   ]
  },
  {
   "cell_type": "code",
   "execution_count": 196,
   "id": "72f646ec",
   "metadata": {},
   "outputs": [],
   "source": [
    "means_map_mp_context, class_means_mp_context = compute_class_means(classes_map, pred_labels, sample_mp_context_embs)"
   ]
  },
  {
   "cell_type": "code",
   "execution_count": 197,
   "id": "cfe285bc",
   "metadata": {},
   "outputs": [],
   "source": [
    "means_map_concat, class_means_concat = compute_class_means(classes_map, pred_labels, sample_concat_embs)"
   ]
  },
  {
   "cell_type": "code",
   "execution_count": 198,
   "id": "c31a2b69",
   "metadata": {},
   "outputs": [
    {
     "data": {
      "text/plain": [
       "({2: array([-0.00047373,  0.00141652,  0.00430773, ...,  0.00294065,\n",
       "         -0.00816037, -0.00229231], dtype=float32),\n",
       "  1: array([-0.00042127,  0.01248196, -0.00070117, ...,  0.00227932,\n",
       "         -0.0068242 ,  0.00317544], dtype=float32),\n",
       "  0: array([-0.00049961,  0.01213469, -0.00617004, ..., -0.00152438,\n",
       "          0.00720614,  0.00445036], dtype=float32)},\n",
       " array([[-0.00049961,  0.01213469, -0.00617004, ..., -0.00152438,\n",
       "          0.00720614,  0.00445036],\n",
       "        [-0.00042127,  0.01248196, -0.00070117, ...,  0.00227932,\n",
       "         -0.0068242 ,  0.00317544],\n",
       "        [-0.00047373,  0.00141652,  0.00430773, ...,  0.00294065,\n",
       "         -0.00816037, -0.00229231]], dtype=float32))"
      ]
     },
     "execution_count": 198,
     "metadata": {},
     "output_type": "execute_result"
    }
   ],
   "source": [
    "means_map, class_means"
   ]
  },
  {
   "cell_type": "code",
   "execution_count": 199,
   "id": "118faa1e",
   "metadata": {},
   "outputs": [],
   "source": [
    "if class_means.shape[0] > data.num_classes:\n",
    "    class_means = class_means[1:]\n",
    "    class_means_mp = class_means_mp[1:]\n",
    "    class_means_mp_context = class_means_mp_context[1:]\n",
    "    class_means_concat = class_means_concat[1:]\n",
    "    class_means_allmean = class_means_allmean[1:]\n",
    "    class_means_weight = class_means_weight[1:]"
   ]
  },
  {
   "cell_type": "code",
   "execution_count": 200,
   "id": "1127d9b5",
   "metadata": {},
   "outputs": [
    {
     "data": {
      "text/plain": [
       "(3, 2560)"
      ]
     },
     "execution_count": 200,
     "metadata": {},
     "output_type": "execute_result"
    }
   ],
   "source": [
    "class_means.shape"
   ]
  },
  {
   "cell_type": "code",
   "execution_count": 201,
   "id": "687ffacd",
   "metadata": {},
   "outputs": [],
   "source": [
    "# v_score = evaluate_clustering_with_vmeasure_deterministic(sample_embs, labels)\n",
    "# print(\"Stable V-Measure:\", v_score)"
   ]
  },
  {
   "cell_type": "code",
   "execution_count": 202,
   "id": "367ce634",
   "metadata": {},
   "outputs": [],
   "source": [
    "# acc = evaluate_by_cosine(label_embs, sample_mp_embs, labels)\n",
    "# print(\"Accuracy:\", acc)"
   ]
  },
  {
   "cell_type": "code",
   "execution_count": 203,
   "id": "10e59a4e",
   "metadata": {},
   "outputs": [
    {
     "name": "stdout",
     "output_type": "stream",
     "text": [
      "Accuracy: 0.8483772819472617\n",
      "f1: 0.841821145451445\n"
     ]
    }
   ],
   "source": [
    "acc, f1 = evaluate_by_cosine(class_means, sample_embs, labels)\n",
    "print(\"Accuracy:\", acc)\n",
    "print(\"f1:\", f1)"
   ]
  },
  {
   "cell_type": "code",
   "execution_count": 204,
   "id": "ba90acaa",
   "metadata": {},
   "outputs": [
    {
     "name": "stdout",
     "output_type": "stream",
     "text": [
      "Accuracy of concat: 0.821501014198783\n",
      "f1 of concat: 0.8119877824424032\n"
     ]
    }
   ],
   "source": [
    "acc_concat, f1_concat = evaluate_by_cosine(class_means_concat, sample_concat_embs, labels)\n",
    "print(\"Accuracy of concat:\", acc_concat)\n",
    "print(\"f1 of concat:\", f1_concat)"
   ]
  },
  {
   "cell_type": "code",
   "execution_count": 205,
   "id": "9cbea7a6",
   "metadata": {},
   "outputs": [
    {
     "name": "stdout",
     "output_type": "stream",
     "text": [
      "Accuracy of mp: 0.8184584178498986\n",
      "f1 of mp: 0.8096924556035369\n"
     ]
    }
   ],
   "source": [
    "acc_mp, f1_mp = evaluate_by_cosine(class_means_mp, sample_mp_embs, labels)\n",
    "print(\"Accuracy of mp:\", acc_mp)\n",
    "print(\"f1 of mp:\", f1_mp)"
   ]
  },
  {
   "cell_type": "code",
   "execution_count": 206,
   "id": "102c8bb0",
   "metadata": {},
   "outputs": [
    {
     "name": "stdout",
     "output_type": "stream",
     "text": [
      "Accuracy of mp context: 0.8182048681541582\n",
      "f1 of mp context: 0.8102192468048374\n"
     ]
    }
   ],
   "source": [
    "acc_mp_context, f1_mp_context = evaluate_by_cosine(class_means_mp_context, sample_mp_context_embs, labels)\n",
    "print(\"Accuracy of mp context:\", acc_mp_context)\n",
    "print(\"f1 of mp context:\", f1_mp_context)"
   ]
  },
  {
   "cell_type": "code",
   "execution_count": 207,
   "id": "20f2c974",
   "metadata": {},
   "outputs": [
    {
     "name": "stdout",
     "output_type": "stream",
     "text": [
      "Accuracy of all mean center+neighbor: 0.8369675456389453\n",
      "f1 of all mean center+neighbor: 0.8303990705869104\n"
     ]
    }
   ],
   "source": [
    "acc_allmean, f1_allmean = evaluate_by_cosine(class_means_allmean, mean_neighbor_center, labels)\n",
    "print(\"Accuracy of all mean center+neighbor:\", acc_allmean)\n",
    "print(\"f1 of all mean center+neighbor:\", f1_allmean)"
   ]
  },
  {
   "cell_type": "code",
   "execution_count": 208,
   "id": "9be957ed",
   "metadata": {},
   "outputs": [
    {
     "name": "stdout",
     "output_type": "stream",
     "text": [
      "Accuracy of weighted center+neighbor: 0.841024340770791\n",
      "f1 of weighted center+neighbor: 0.8347795097099979\n"
     ]
    }
   ],
   "source": [
    "acc_weight, f1_weight = evaluate_by_cosine(class_means_weight, weighted_neighbor_center, labels)\n",
    "print(\"Accuracy of weighted center+neighbor:\", acc_weight)\n",
    "print(\"f1 of weighted center+neighbor:\", f1_weight)"
   ]
  },
  {
   "cell_type": "code",
   "execution_count": null,
   "id": "05b64b16",
   "metadata": {},
   "outputs": [],
   "source": []
  },
  {
   "cell_type": "code",
   "execution_count": 209,
   "id": "407fa3de",
   "metadata": {},
   "outputs": [
    {
     "name": "stdout",
     "output_type": "stream",
     "text": [
      "0.0\n",
      "0.02\n",
      "0.04\n",
      "0.06\n",
      "0.08\n",
      "0.1\n",
      "0.12\n",
      "0.14\n",
      "0.16\n",
      "0.18\n",
      "0.2\n",
      "0.22\n",
      "0.24\n",
      "0.26\n",
      "0.28\n",
      "0.3\n",
      "0.32\n",
      "0.34\n",
      "0.36\n",
      "0.38\n",
      "0.4\n",
      "0.42\n",
      "0.44\n",
      "0.46\n",
      "0.48\n",
      "0.5\n",
      "0.52\n",
      "0.54\n",
      "0.56\n",
      "0.58\n",
      "0.6\n",
      "0.62\n",
      "0.64\n",
      "0.66\n",
      "0.68\n",
      "0.7000000000000001\n",
      "0.72\n",
      "0.74\n",
      "0.76\n",
      "0.78\n",
      "0.8\n",
      "0.8200000000000001\n",
      "0.84\n",
      "0.86\n",
      "0.88\n",
      "0.9\n",
      "0.92\n",
      "0.9400000000000001\n",
      "0.96\n",
      "0.98\n",
      "1.0\n"
     ]
    }
   ],
   "source": [
    "alphas = np.arange(0, 1.02, 0.02)\n",
    "\n",
    "acc_list_mean_neighbor = []\n",
    "f1_list_mean_neighbor = []\n",
    "for alpha in alphas:\n",
    "    print(alpha)\n",
    "    sample_embs_combine = np.zeros_like(sample_embs)\n",
    "    for i in range(sample_embs.shape[0]):\n",
    "        sample_embs_combine[i] = alpha * sample_embs[i] + (1-alpha) * neighbor_embeddings_combine[i]\n",
    "    means_map_combine, class_means_combine = compute_class_means(classes_map, pred_labels, sample_embs_combine)\n",
    "    if class_means_combine.shape[0] > data.num_classes:\n",
    "        class_means_combine = class_means_combine[1:]\n",
    "    acc, f1 = evaluate_by_cosine(class_means_combine, sample_embs_combine, labels)\n",
    "    acc_list_mean_neighbor.append(acc)\n",
    "    f1_list_mean_neighbor.append(f1)"
   ]
  },
  {
   "cell_type": "code",
   "execution_count": 210,
   "id": "bbf32fa9",
   "metadata": {},
   "outputs": [
    {
     "name": "stdout",
     "output_type": "stream",
     "text": [
      "0.0\n",
      "0.02\n",
      "0.04\n",
      "0.06\n",
      "0.08\n",
      "0.1\n",
      "0.12\n",
      "0.14\n",
      "0.16\n",
      "0.18\n",
      "0.2\n",
      "0.22\n",
      "0.24\n",
      "0.26\n",
      "0.28\n",
      "0.3\n",
      "0.32\n",
      "0.34\n",
      "0.36\n",
      "0.38\n",
      "0.4\n",
      "0.42\n",
      "0.44\n",
      "0.46\n",
      "0.48\n",
      "0.5\n",
      "0.52\n",
      "0.54\n",
      "0.56\n",
      "0.58\n",
      "0.6\n",
      "0.62\n",
      "0.64\n",
      "0.66\n",
      "0.68\n",
      "0.7000000000000001\n",
      "0.72\n",
      "0.74\n",
      "0.76\n",
      "0.78\n",
      "0.8\n",
      "0.8200000000000001\n",
      "0.84\n",
      "0.86\n",
      "0.88\n",
      "0.9\n",
      "0.92\n",
      "0.9400000000000001\n",
      "0.96\n",
      "0.98\n",
      "1.0\n"
     ]
    }
   ],
   "source": [
    "alphas = np.arange(0, 1.02, 0.02)\n",
    "\n",
    "acc_list_weight_neighbor = []\n",
    "f1_list_weight_neighbor = []\n",
    "for alpha in alphas:\n",
    "    print(alpha)\n",
    "    sample_embs_combine = np.zeros_like(sample_embs)\n",
    "    for i in range(sample_embs.shape[0]):\n",
    "        sample_embs_combine[i] = alpha * sample_embs[i] + (1-alpha) * neighbor_embeddings_combine_weighted[i]\n",
    "    means_map_combine, class_means_combine = compute_class_means(classes_map, pred_labels, sample_embs_combine)\n",
    "    if class_means_combine.shape[0] > data.num_classes:\n",
    "        class_means_combine = class_means_combine[1:]\n",
    "    acc, f1 = evaluate_by_cosine(class_means_combine, sample_embs_combine, labels)\n",
    "    acc_list_weight_neighbor.append(acc)\n",
    "    f1_list_weight_neighbor.append(f1)"
   ]
  },
  {
   "cell_type": "code",
   "execution_count": 211,
   "id": "fe310812",
   "metadata": {},
   "outputs": [
    {
     "name": "stdout",
     "output_type": "stream",
     "text": [
      "0.0\n",
      "0.02\n",
      "0.04\n",
      "0.06\n",
      "0.08\n",
      "0.1\n",
      "0.12\n",
      "0.14\n",
      "0.16\n",
      "0.18\n",
      "0.2\n",
      "0.22\n",
      "0.24\n",
      "0.26\n",
      "0.28\n",
      "0.3\n",
      "0.32\n",
      "0.34\n",
      "0.36\n",
      "0.38\n",
      "0.4\n",
      "0.42\n",
      "0.44\n",
      "0.46\n",
      "0.48\n",
      "0.5\n",
      "0.52\n",
      "0.54\n",
      "0.56\n",
      "0.58\n",
      "0.6\n",
      "0.62\n",
      "0.64\n",
      "0.66\n",
      "0.68\n",
      "0.7000000000000001\n",
      "0.72\n",
      "0.74\n",
      "0.76\n",
      "0.78\n",
      "0.8\n",
      "0.8200000000000001\n",
      "0.84\n",
      "0.86\n",
      "0.88\n",
      "0.9\n",
      "0.92\n",
      "0.9400000000000001\n",
      "0.96\n",
      "0.98\n",
      "1.0\n"
     ]
    }
   ],
   "source": [
    "alphas = np.arange(0, 1.02, 0.02)\n",
    "\n",
    "acc_list_concat = []\n",
    "f1_list_concat= []\n",
    "for alpha in alphas:\n",
    "    print(alpha)\n",
    "    sample_embs_combine = np.zeros_like(sample_embs)\n",
    "    for i in range(sample_embs.shape[0]):\n",
    "        sample_embs_combine[i] = alpha * sample_embs[i] + (1-alpha) * sample_concat_embs[i]\n",
    "    means_map_combine, class_means_combine = compute_class_means(classes_map, pred_labels, sample_embs_combine)\n",
    "    if class_means_combine.shape[0] > data.num_classes:\n",
    "        class_means_combine = class_means_combine[1:]\n",
    "    acc, f1 = evaluate_by_cosine(class_means_combine, sample_embs_combine, labels)\n",
    "    acc_list_concat.append(acc)\n",
    "    f1_list_concat.append(f1)"
   ]
  },
  {
   "cell_type": "code",
   "execution_count": 212,
   "id": "b0510b8a",
   "metadata": {},
   "outputs": [
    {
     "name": "stdout",
     "output_type": "stream",
     "text": [
      "0.0\n",
      "0.02\n",
      "0.04\n",
      "0.06\n",
      "0.08\n",
      "0.1\n",
      "0.12\n",
      "0.14\n",
      "0.16\n",
      "0.18\n",
      "0.2\n",
      "0.22\n",
      "0.24\n",
      "0.26\n",
      "0.28\n",
      "0.3\n",
      "0.32\n",
      "0.34\n",
      "0.36\n",
      "0.38\n",
      "0.4\n",
      "0.42\n",
      "0.44\n",
      "0.46\n",
      "0.48\n",
      "0.5\n",
      "0.52\n",
      "0.54\n",
      "0.56\n",
      "0.58\n",
      "0.6\n",
      "0.62\n",
      "0.64\n",
      "0.66\n",
      "0.68\n",
      "0.7000000000000001\n",
      "0.72\n",
      "0.74\n",
      "0.76\n",
      "0.78\n",
      "0.8\n",
      "0.8200000000000001\n",
      "0.84\n",
      "0.86\n",
      "0.88\n",
      "0.9\n",
      "0.92\n",
      "0.9400000000000001\n",
      "0.96\n",
      "0.98\n",
      "1.0\n"
     ]
    }
   ],
   "source": [
    "alphas = np.arange(0, 1.02, 0.02)\n",
    "\n",
    "acc_list_mp = []\n",
    "f1_list_mp= []\n",
    "for alpha in alphas:\n",
    "    print(alpha)\n",
    "    sample_embs_combine = np.zeros_like(sample_embs)\n",
    "    for i in range(sample_embs.shape[0]):\n",
    "        sample_embs_combine[i] = alpha * sample_embs[i] + (1-alpha) * sample_mp_embs[i]\n",
    "    means_map_combine, class_means_combine = compute_class_means(classes_map, pred_labels, sample_embs_combine)\n",
    "    if class_means_combine.shape[0] > data.num_classes:\n",
    "        class_means_combine = class_means_combine[1:]\n",
    "    acc, f1 = evaluate_by_cosine(class_means_combine, sample_embs_combine, labels)\n",
    "    acc_list_mp.append(acc)\n",
    "    f1_list_mp.append(f1)"
   ]
  },
  {
   "cell_type": "code",
   "execution_count": 213,
   "id": "b1cd5fa0",
   "metadata": {},
   "outputs": [
    {
     "name": "stdout",
     "output_type": "stream",
     "text": [
      "0.0\n",
      "0.02\n",
      "0.04\n",
      "0.06\n",
      "0.08\n",
      "0.1\n",
      "0.12\n",
      "0.14\n",
      "0.16\n",
      "0.18\n",
      "0.2\n",
      "0.22\n",
      "0.24\n",
      "0.26\n",
      "0.28\n",
      "0.3\n",
      "0.32\n",
      "0.34\n",
      "0.36\n",
      "0.38\n",
      "0.4\n",
      "0.42\n",
      "0.44\n",
      "0.46\n",
      "0.48\n",
      "0.5\n",
      "0.52\n",
      "0.54\n",
      "0.56\n",
      "0.58\n",
      "0.6\n",
      "0.62\n",
      "0.64\n",
      "0.66\n",
      "0.68\n",
      "0.7000000000000001\n",
      "0.72\n",
      "0.74\n",
      "0.76\n",
      "0.78\n",
      "0.8\n",
      "0.8200000000000001\n",
      "0.84\n",
      "0.86\n",
      "0.88\n",
      "0.9\n",
      "0.92\n",
      "0.9400000000000001\n",
      "0.96\n",
      "0.98\n",
      "1.0\n"
     ]
    }
   ],
   "source": [
    "alphas = np.arange(0, 1.02, 0.02)\n",
    "\n",
    "acc_list_mp_context = []\n",
    "f1_list_mp_context= []\n",
    "for alpha in alphas:\n",
    "    print(alpha)\n",
    "    sample_embs_combine = np.zeros_like(sample_embs)\n",
    "    for i in range(sample_embs.shape[0]):\n",
    "        sample_embs_combine[i] = alpha * sample_embs[i] + (1-alpha) * sample_mp_context_embs[i]\n",
    "    means_map_combine, class_means_combine = compute_class_means(classes_map, pred_labels, sample_embs_combine)\n",
    "    if class_means_combine.shape[0] > data.num_classes:\n",
    "        class_means_combine = class_means_combine[1:]\n",
    "    acc, f1 = evaluate_by_cosine(class_means_combine, sample_embs_combine, labels)\n",
    "    acc_list_mp_context.append(acc)\n",
    "    f1_list_mp_context.append(f1)"
   ]
  },
  {
   "cell_type": "code",
   "execution_count": 214,
   "id": "e33f864e",
   "metadata": {},
   "outputs": [],
   "source": [
    "import matplotlib.pyplot as plt\n",
    "import numpy as np\n",
    "\n",
    "def plot_alpha_variance(save_path=\"alpha_variance.pdf\"):\n",
    "    # X-axis: alpha values\n",
    "    alphas = np.arange(0, 1.02, 0.02)\n",
    "\n",
    "    # Create plot\n",
    "    plt.figure(figsize=(8, 6))\n",
    "    # plt.plot(alphas, acc_list_mean_neighbor, marker=\"o\", markersize=2, label=\"Mean Neighbor\")\n",
    "    # plt.plot(alphas, acc_list_weight_neighbor, marker=\"o\", markersize=2, label=\"Weighted Mean Neighbor\")\n",
    "    # plt.plot(alphas, acc_list_concat, marker=\"o\", markersize=2, label=\"Struc-Emb-Seq\")\n",
    "    # plt.plot(alphas, acc_list_mp, marker=\"o\", markersize=2, label=\"Struc-Emb-Par\")\n",
    "    # plt.plot(alphas, acc_list_mp_context, marker=\"o\", markersize=2, label=\"Struc-Emb-Par-Distill\")\n",
    "\n",
    "    plt.plot(alphas, f1_list_mean_neighbor, marker=\"o\", markersize=2, label=\"Mean Neighbor\")\n",
    "    plt.plot(alphas, f1_list_weight_neighbor, marker=\"o\", markersize=2, label=\"Weighted Mean Neighbor\")\n",
    "    plt.plot(alphas, f1_list_concat, marker=\"o\", markersize=2, label=\"Struc-Emb-Seq\")\n",
    "    plt.plot(alphas, f1_list_mp, marker=\"o\", markersize=2, label=\"Struc-Emb-Par\")\n",
    "    plt.plot(alphas, f1_list_mp_context, marker=\"o\", markersize=2, label=\"Struc-Emb-Par-Distill\")\n",
    "\n",
    "    # Labels, title, legend, and grid (larger fonts, consistent with your style)\n",
    "    plt.xlabel(r\"Interpolation Weight $\\alpha$\", fontsize=15)\n",
    "    plt.ylabel(\"Classification performance (F1)\", fontsize=15)\n",
    "    plt.title(\"Performance Variation with Interpolation Weight\", fontsize=16)\n",
    "    plt.legend(fontsize=14, loc=\"best\")\n",
    "    plt.xticks(fontsize=14)\n",
    "    plt.yticks(fontsize=14)\n",
    "    plt.grid(True, linestyle=\"--\", alpha=0.6)\n",
    "    plt.tight_layout()\n",
    "\n",
    "    # Save and show\n",
    "    plt.savefig(save_path, format=\"pdf\")\n",
    "    plt.show()\n",
    "    plt.close()\n"
   ]
  },
  {
   "cell_type": "code",
   "execution_count": 215,
   "id": "3bd2566b",
   "metadata": {},
   "outputs": [
    {
     "data": {
      "image/png": "[encoded data removed]",
      "text/plain": [
       "<Figure size 800x600 with 1 Axes>"
      ]
     },
     "metadata": {},
     "output_type": "display_data"
    }
   ],
   "source": [
    "plot_alpha_variance(save_path=\"alpha_variance_0.6B_bookhis_f1.pdf\")"
   ]
  },
  {
   "cell_type": "code",
   "execution_count": 216,
   "id": "72762d97",
   "metadata": {},
   "outputs": [
    {
     "data": {
      "text/plain": [
       "(0.8582657200811359, 0.7000000000000001, 0.821501014198783, 0.8483772819472617)"
      ]
     },
     "execution_count": 216,
     "metadata": {},
     "output_type": "execute_result"
    }
   ],
   "source": [
    "np.max(acc_list_concat), alphas[np.argmax(acc_list_concat)], acc_list_concat[0], acc_list_concat[-1]"
   ]
  },
  {
   "cell_type": "code",
   "execution_count": 217,
   "id": "af813537",
   "metadata": {},
   "outputs": [
    {
     "data": {
      "text/plain": [
       "(0.8520007956452845, 0.7000000000000001, 0.8119877824424032, 0.841821145451445)"
      ]
     },
     "execution_count": 217,
     "metadata": {},
     "output_type": "execute_result"
    }
   ],
   "source": [
    "np.max(f1_list_concat), alphas[np.argmax(f1_list_concat)], f1_list_concat[0], f1_list_concat[-1]"
   ]
  }
 ],
 "metadata": {
  "kernelspec": {
   "display_name": "enc_att",
   "language": "python",
   "name": "python3"
  },
  "language_info": {
   "codemirror_mode": {
    "name": "ipython",
    "version": 3
   },
   "file_extension": ".py",
   "mimetype": "text/x-python",
   "name": "python",
   "nbconvert_exporter": "python",
   "pygments_lexer": "ipython3",
   "version": "3.10.16"
  }
 },
 "nbformat": 4,
 "nbformat_minor": 5
}
