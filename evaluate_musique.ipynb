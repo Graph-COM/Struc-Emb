{
 "cells": [
  {
   "cell_type": "code",
   "execution_count": 597,
   "id": "71c4e88c",
   "metadata": {},
   "outputs": [
    {
     "data": {
      "text/plain": [
       "array([-0.06768497,  0.01194385, -0.01169097, ...,  0.04006547,\n",
       "        0.03510926, -0.02700059], dtype=float32)"
      ]
     },
     "execution_count": 597,
     "metadata": {},
     "output_type": "execute_result"
    }
   ],
   "source": [
    "import numpy as np\n",
    "\n",
    "N, D = 7521, 1024   # ← whatever your total count and embedding dim are\n",
    "doc_embeddings = np.memmap(\n",
    "    \"musique/musique_paragraphs_center_0.6B_embedding_0.npy\",\n",
    "    dtype=\"float32\",\n",
    "    mode=\"r\",\n",
    "    shape=(N, D)\n",
    ")\n",
    "doc_embeddings = np.array(doc_embeddings)\n",
    "doc_embeddings[-1]"
   ]
  },
  {
   "cell_type": "code",
   "execution_count": 598,
   "id": "5d843775",
   "metadata": {},
   "outputs": [
    {
     "data": {
      "text/plain": [
       "array([-0.06134128,  0.03226939, -0.01036966, ..., -0.00177213,\n",
       "        0.01734047, -0.01817626], dtype=float32)"
      ]
     },
     "execution_count": 598,
     "metadata": {},
     "output_type": "execute_result"
    }
   ],
   "source": [
    "import numpy as np\n",
    "\n",
    "N, D = 7521, 1024   # ← whatever your total count and embedding dim are\n",
    "doc_embeddings_mp = np.memmap(\n",
    "    \"musique/musique_paragraphs_mp_0.6B_embedding_0.npy\",\n",
    "    dtype=\"float32\",\n",
    "    mode=\"r\",\n",
    "    shape=(N, D)\n",
    ")\n",
    "doc_embeddings_mp = np.array(doc_embeddings_mp)\n",
    "doc_embeddings_mp[-1]"
   ]
  },
  {
   "cell_type": "code",
   "execution_count": 599,
   "id": "a51b426c",
   "metadata": {},
   "outputs": [
    {
     "data": {
      "text/plain": [
       "array([-0.05787248,  0.03407563, -0.00965403, ..., -0.00806922,\n",
       "        0.01724079, -0.01797681], dtype=float32)"
      ]
     },
     "execution_count": 599,
     "metadata": {},
     "output_type": "execute_result"
    }
   ],
   "source": [
    "import numpy as np\n",
    "\n",
    "N, D = 7521, 1024   # ← whatever your total count and embedding dim are\n",
    "doc_embeddings_mp_context = np.memmap(\n",
    "    \"musique/musique_paragraphs_instruct_mp_context_0.6B_embedding_0.npy\",\n",
    "    dtype=\"float32\",\n",
    "    mode=\"r\",\n",
    "    shape=(N, D)\n",
    ")\n",
    "doc_embeddings_mp_context = np.array(doc_embeddings_mp_context)\n",
    "doc_embeddings_mp_context[-1]"
   ]
  },
  {
   "cell_type": "code",
   "execution_count": 600,
   "id": "3730e971",
   "metadata": {},
   "outputs": [
    {
     "data": {
      "text/plain": [
       "array([-0.02672534, -0.0026168 , -0.01089036, ..., -0.01258878,\n",
       "        0.02392712, -0.01055369], dtype=float32)"
      ]
     },
     "execution_count": 600,
     "metadata": {},
     "output_type": "execute_result"
    }
   ],
   "source": [
    "import numpy as np\n",
    "\n",
    "N, D = 7521, 1024   # ← whatever your total count and embedding dim are\n",
    "doc_embeddings_concat = np.memmap(\n",
    "    \"musique/musique_paragraphs_concat_0.6B_embedding_0.npy\",\n",
    "    dtype=\"float32\",\n",
    "    mode=\"r\",\n",
    "    shape=(N, D)\n",
    ")\n",
    "doc_embeddings_concat = np.array(doc_embeddings_concat)\n",
    "doc_embeddings_concat[-1]"
   ]
  },
  {
   "cell_type": "code",
   "execution_count": 601,
   "id": "c51d5424",
   "metadata": {},
   "outputs": [
    {
     "data": {
      "text/plain": [
       "37852"
      ]
     },
     "execution_count": 601,
     "metadata": {},
     "output_type": "execute_result"
    }
   ],
   "source": [
    "import pickle\n",
    "with open(\"musique/musique_paragraphs_neighbor_texts.pkl\", \"rb\") as f:\n",
    "    neighbor_texts = pickle.load(f)\n",
    "len(neighbor_texts)"
   ]
  },
  {
   "cell_type": "code",
   "execution_count": 602,
   "id": "9473416c",
   "metadata": {},
   "outputs": [
    {
     "data": {
      "text/plain": [
       "array([-0.07204255, -0.00829221, -0.00295186, ..., -0.0073727 ,\n",
       "        0.01150028, -0.02650032], dtype=float32)"
      ]
     },
     "execution_count": 602,
     "metadata": {},
     "output_type": "execute_result"
    }
   ],
   "source": [
    "import numpy as np\n",
    "\n",
    "N, D = len(neighbor_texts), 1024   # ← whatever your total count and embedding dim are\n",
    "neighbor_embeddings = np.memmap(\n",
    "    \"musique/musique_paragraphs_neighbor_0.6B_embedding_0.npy\",\n",
    "    dtype=\"float32\",\n",
    "    mode=\"r\",\n",
    "    shape=(N, D)\n",
    ")\n",
    "neighbor_embeddings = np.array(neighbor_embeddings)\n",
    "neighbor_embeddings[-1]"
   ]
  },
  {
   "cell_type": "code",
   "execution_count": 603,
   "id": "16ab469f",
   "metadata": {},
   "outputs": [],
   "source": [
    "import pickle\n",
    "with open(\"musique/musique_paragraphs_concat_dict.pkl\", \"rb\") as f:\n",
    "    sub_docs_concat_dict = pickle.load(f)"
   ]
  },
  {
   "cell_type": "code",
   "execution_count": 604,
   "id": "60e83c35",
   "metadata": {},
   "outputs": [],
   "source": [
    "neighbor_embeddings_combine = np.zeros_like(doc_embeddings)\n",
    "idx = 0\n",
    "for doc_idx, doc in enumerate(sub_docs_concat_dict):\n",
    "    len_neighbor = len(doc['1'])\n",
    "    if len_neighbor > 0:\n",
    "        neighbor_embeddings_combine[doc_idx] = np.mean(neighbor_embeddings[idx:idx+len_neighbor], 0)\n",
    "    idx += len_neighbor"
   ]
  },
  {
   "cell_type": "code",
   "execution_count": 605,
   "id": "5a0fbe2c",
   "metadata": {},
   "outputs": [],
   "source": [
    "import numpy as np\n",
    "\n",
    "def self_anchored_weighting(center: np.ndarray, neighbors: np.ndarray) -> np.ndarray:\n",
    "    \"\"\"\n",
    "    Compute self-anchored weighted mean of a center embedding with its neighbors.\n",
    "\n",
    "    Args:\n",
    "        center: (D,) center embedding\n",
    "        neighbors: (N, D) neighbor embeddings\n",
    "\n",
    "    Returns:\n",
    "        (D,) aggregated embedding\n",
    "    \"\"\"\n",
    "    # Normalize for cosine similarity\n",
    "    center_norm = center / np.linalg.norm(center)\n",
    "    neighbors_norm = neighbors / np.linalg.norm(neighbors, axis=1, keepdims=True)\n",
    "\n",
    "    # Cosine similarities between center and neighbors\n",
    "    sims = neighbors_norm @ center_norm  # shape (N,)\n",
    "\n",
    "    # Weighted neighbor sum\n",
    "    weighted_neighbors = np.sum(sims[:, None] * neighbors, axis=0)\n",
    "\n",
    "    # Numerator and denominator\n",
    "    numerator = center + weighted_neighbors\n",
    "    denominator = 1.0 + np.sum(sims)\n",
    "\n",
    "    return numerator / denominator"
   ]
  },
  {
   "cell_type": "code",
   "execution_count": 606,
   "id": "834186da",
   "metadata": {},
   "outputs": [],
   "source": [
    "import numpy as np\n",
    "\n",
    "def weighted_neighbor_sum(center: np.ndarray, neighbors: np.ndarray, use_softmax: bool = True) -> np.ndarray:\n",
    "    \"\"\"\n",
    "    Compute weighted sum of neighbor embeddings based on similarity to center embedding.\n",
    "\n",
    "    Args:\n",
    "        center: (D,) center embedding\n",
    "        neighbors: (N, D) neighbor embeddings\n",
    "        use_softmax: whether to normalize weights with softmax (default True)\n",
    "\n",
    "    Returns:\n",
    "        (D,) weighted sum vector\n",
    "    \"\"\"\n",
    "    # Normalize embeddings for cosine similarity\n",
    "    center_norm = center / np.linalg.norm(center)\n",
    "    neighbors_norm = neighbors / np.linalg.norm(neighbors, axis=1, keepdims=True)\n",
    "\n",
    "    # Similarity scores (cosine)\n",
    "    sims = neighbors_norm @ center_norm  # shape (N,)\n",
    "\n",
    "    # Turn similarities into weights\n",
    "    if use_softmax:\n",
    "        exp_sims = np.exp(sims)\n",
    "        weights = exp_sims / np.sum(exp_sims)\n",
    "    else:\n",
    "        weights = sims / np.sum(sims)\n",
    "\n",
    "    # Weighted sum\n",
    "    weighted_sum = weights @ neighbors  # shape (D,)\n",
    "    return weighted_sum"
   ]
  },
  {
   "cell_type": "code",
   "execution_count": 607,
   "id": "db4cf141",
   "metadata": {},
   "outputs": [],
   "source": [
    "neighbor_embeddings_combine_weighted = np.zeros_like(doc_embeddings)\n",
    "idx = 0\n",
    "for doc_idx, doc in enumerate(sub_docs_concat_dict):\n",
    "    len_neighbor = len(doc['1'])\n",
    "    if len_neighbor > 0:\n",
    "        neighbor_embeddings_combine_weighted[doc_idx] = weighted_neighbor_sum(doc_embeddings[doc_idx], neighbor_embeddings[idx:idx+len_neighbor])\n",
    "        # neighbor_embeddings_combine[doc_idx] = np.mean(neighbor_embeddings[idx:idx+len_neighbor], 0)\n",
    "    idx += len_neighbor"
   ]
  },
  {
   "cell_type": "code",
   "execution_count": 608,
   "id": "4037459b",
   "metadata": {},
   "outputs": [],
   "source": [
    "weighted_neighbor_center = np.zeros_like(doc_embeddings)\n",
    "idx = 0\n",
    "for doc_idx, doc in enumerate(sub_docs_concat_dict):\n",
    "    len_neighbor = len(doc['1'])\n",
    "    if len_neighbor > 0:\n",
    "        weighted_neighbor_center[doc_idx] = self_anchored_weighting(doc_embeddings[doc_idx], neighbor_embeddings[idx:idx+len_neighbor])\n",
    "        # neighbor_embeddings_combine[doc_idx] = np.mean(neighbor_embeddings[idx:idx+len_neighbor], 0)\n",
    "    idx += len_neighbor"
   ]
  },
  {
   "cell_type": "code",
   "execution_count": 609,
   "id": "acff342a",
   "metadata": {},
   "outputs": [],
   "source": [
    "mean_neighbor_center = 0.5 * doc_embeddings + 0.5 * neighbor_embeddings_combine"
   ]
  },
  {
   "cell_type": "code",
   "execution_count": 610,
   "id": "5b9c5c16",
   "metadata": {},
   "outputs": [
    {
     "data": {
      "text/plain": [
       "array([0.00053606, 0.00113894, 0.00087696, ..., 0.00928416, 0.0108516 ,\n",
       "       0.01223676], dtype=float32)"
      ]
     },
     "execution_count": 610,
     "metadata": {},
     "output_type": "execute_result"
    }
   ],
   "source": [
    "neighbor_embeddings_combine[0]"
   ]
  },
  {
   "cell_type": "code",
   "execution_count": 611,
   "id": "70ee3098",
   "metadata": {},
   "outputs": [],
   "source": [
    "import pickle\n",
    "with open(\"musique/musique_paragraphs_concat_idx.pkl\", \"rb\") as f:\n",
    "    sub_paragraph_concat_idx = pickle.load(f)"
   ]
  },
  {
   "cell_type": "code",
   "execution_count": 612,
   "id": "1ef4853f",
   "metadata": {},
   "outputs": [
    {
     "data": {
      "text/plain": [
       "array([-0.01260294, -0.02232859, -0.00876494, ...,  0.00660737,\n",
       "       -0.0251906 , -0.02212952], dtype=float32)"
      ]
     },
     "execution_count": 612,
     "metadata": {},
     "output_type": "execute_result"
    }
   ],
   "source": [
    "import numpy as np\n",
    "\n",
    "N, D = 400, 1024   # ← whatever your total count and embedding dim are\n",
    "query_embeddings = np.memmap(\n",
    "    \"musique/query_task_instruct_0.6B_embedding_0.npy\",\n",
    "    dtype=\"float32\",\n",
    "    mode=\"r\",\n",
    "    shape=(N, D)\n",
    ")\n",
    "query_embeddings = np.array(query_embeddings)\n",
    "query_embeddings[-1]"
   ]
  },
  {
   "cell_type": "code",
   "execution_count": 613,
   "id": "dbf36b16",
   "metadata": {},
   "outputs": [
    {
     "name": "stdout",
     "output_type": "stream",
     "text": [
      "Found wiki_net/musique_400_250616.jsonl locally.\n"
     ]
    },
    {
     "name": "stderr",
     "output_type": "stream",
     "text": [
      "Loading samples: 400it [00:00, 11345.54it/s]\n"
     ]
    }
   ],
   "source": [
    "from multihop_data import load_adj, load_data_samples, load_docs\n",
    "import csv\n",
    "import json\n",
    "import os\n",
    "\n",
    "from collections import defaultdict\n",
    "from huggingface_hub import hf_hub_download\n",
    "from tqdm import tqdm\n",
    "\n",
    "root_dir = \"wiki_net\"\n",
    "os.makedirs(root_dir, exist_ok=True)\n",
    "\n",
    "# nq_samples = load_data_samples(\"nq_filtered.jsonl\")\n",
    "musique_samples = load_data_samples(\"musique_400_250616.jsonl\")\n",
    "# docs = load_docs()\n",
    "# adj = load_adj()"
   ]
  },
  {
   "cell_type": "code",
   "execution_count": 614,
   "id": "71b5d0b7",
   "metadata": {},
   "outputs": [],
   "source": [
    "# rel_docs = []\n",
    "# for sample in musique_samples:\n",
    "#     rel_docs_cur = list(sample['p2d_id'].values())\n",
    "#     rel_docs.append(rel_docs_cur)"
   ]
  },
  {
   "cell_type": "code",
   "execution_count": 615,
   "id": "7901f4e6",
   "metadata": {},
   "outputs": [],
   "source": [
    "import pickle\n",
    "with open(\"musique/rel_paragraphs.pkl\", \"rb\") as f:\n",
    "    rel_docs = pickle.load(f)"
   ]
  },
  {
   "cell_type": "code",
   "execution_count": 616,
   "id": "d9ff7575",
   "metadata": {},
   "outputs": [
    {
     "data": {
      "text/plain": [
       "2.37"
      ]
     },
     "execution_count": 616,
     "metadata": {},
     "output_type": "execute_result"
    }
   ],
   "source": [
    "num_answers = [len(i) for i in rel_docs]\n",
    "np.mean(num_answers)"
   ]
  },
  {
   "cell_type": "code",
   "execution_count": 617,
   "id": "3d10b1d0",
   "metadata": {},
   "outputs": [
    {
     "data": {
      "text/plain": [
       "({'1': '50585', '3': '1946572', '16': '570934'},\n",
       " [{'id': 30654,\n",
       "   'question': 'What religion did the black community found?',\n",
       "   'answer': 'African Methodist Episcopal Church',\n",
       "   'paragraph_support_idx': 1,\n",
       "   'support_sentence': [\"The state capital was moved from Philadelphia to Lancaster in 1799, then ultimately to Harrisburg in 1812. Philadelphia remained the nation's largest city until the late 18th century. It also was the nation's financial and cultural center until ultimately being eclipsed in total population by New York City in 1790. In 1816, the city's free Black community founded the African Methodist Episcopal Church, the first independent Black denomination in the country, and the first Black Episcopal Church. The free Black community also established many schools for its children with the help of Quakers. Large-scale construction projects for new roads, canals, and railroads made Philadelphia the first major industrial city in the United States.\"]},\n",
       "  {'id': 128704,\n",
       "   'question': 'What city is WXPN located?',\n",
       "   'answer': 'Philadelphia',\n",
       "   'paragraph_support_idx': 3,\n",
       "   'support_sentence': ['WXPN (88.5 FM) is a non-commercial, public radio station licensed to the Trustees of the University of Pennsylvania in Philadelphia, Pennsylvania, that broadcasts an adult album alternative (AAA) radio format, along with many other format shows. WXPN produces \"World Cafe\", a music program distributed by NPR to many non-commercial stations in the United States. The station\\'s call sign, which is often abbreviated to XPN, stands for \"Experimental Pennsylvania Network\". The broadcast tower used by WXPN is located at (), in the antenna farm complex in the Roxborough section of Philadelphia.']},\n",
       "  {'id': 89329,\n",
       "   'question': 'who started the bethel #1 in #2',\n",
       "   'answer': 'Bishop Francis Asbury',\n",
       "   'paragraph_support_idx': 16,\n",
       "   'support_sentence': [\"The church was proposed in 1791 by members of the Free African Society of Philadelphia, including Absalom Jones, out of a desire to create a space for autonomous African-American worship and community in the city. The desire to create the church was strengthened in 1792, after African-American members of St. George's Methodist Church walked out due to racial segregation in the worship services. Leading roles in the founding were played by Richard Allen, who arranged the purchase of the church's site and its construction, and Absalom Jones, who raised funds among both black and white Philadelphia residents (including then-President George Washington). Mother Bethel was one of the first African-American churches in the United States, dedicated July 29, 1794, by Bishop Francis Asbury.\"]}],\n",
       " 'Bishop Francis Asbury')"
      ]
     },
     "execution_count": 617,
     "metadata": {},
     "output_type": "execute_result"
    }
   ],
   "source": [
    "musique_samples[0]['p2d_id'], musique_samples[0]['question_decomposition'], musique_samples[0]['answer']"
   ]
  },
  {
   "cell_type": "code",
   "execution_count": 618,
   "id": "f7e3f01e",
   "metadata": {},
   "outputs": [],
   "source": [
    "key_doc_list = []\n",
    "for sample in musique_samples:\n",
    "    for question in sample['question_decomposition']:\n",
    "        if question['answer'] == sample['answer']:\n",
    "            support_idx = question['paragraph_support_idx']\n",
    "    key_doc = sample['p2d_id'][str(support_idx)]\n",
    "    key_doc_list.append([key_doc])"
   ]
  },
  {
   "cell_type": "code",
   "execution_count": 619,
   "id": "8cc1be6f",
   "metadata": {},
   "outputs": [],
   "source": [
    "ground_truth_docnum = [sample['#_support_docs'] for sample in musique_samples]"
   ]
  },
  {
   "cell_type": "code",
   "execution_count": 620,
   "id": "2dfd743c",
   "metadata": {},
   "outputs": [
    {
     "data": {
      "text/plain": [
       "array([368, 369, 370, 371, 372, 373, 374, 375, 376, 377, 378, 379, 380,\n",
       "       381, 382, 383, 384, 385, 386, 387, 388, 389, 390, 391, 392, 393,\n",
       "       394, 395, 396, 397, 398, 399])"
      ]
     },
     "execution_count": 620,
     "metadata": {},
     "output_type": "execute_result"
    }
   ],
   "source": [
    "import numpy as np\n",
    "idx_1d = (np.array(ground_truth_docnum) == 4).nonzero()[0]\n",
    "idx_1d"
   ]
  },
  {
   "cell_type": "code",
   "execution_count": 621,
   "id": "57940e01",
   "metadata": {},
   "outputs": [],
   "source": [
    "import numpy as np\n",
    "from typing import List, Tuple\n",
    "\n",
    "def ndcg_at_k_multi(query_embs: np.ndarray,\n",
    "                    doc_embs:   np.ndarray,\n",
    "                    relevant_doc_indices_list: List[List[int]],\n",
    "                    idx_map: List,\n",
    "                    k:          int = 10,\n",
    "                   ) -> Tuple[np.ndarray, List[List[int]]]:\n",
    "    \"\"\"\n",
    "    Compute nDCG@k for a batch of queries.\n",
    "\n",
    "    Args:\n",
    "        query_embs (np.ndarray): shape (Q, d). Each row is one query embedding.\n",
    "        doc_embs   (np.ndarray): shape (N, d). Each row is one document embedding.\n",
    "        relevant_doc_indices_list (List[List[int]]):\n",
    "            A list of length Q.  Each element is a list of integer indices (0 <= idx < N)\n",
    "            indicating which documents are relevant for that query.\n",
    "        k (int): Rank cutoff (default 10).\n",
    "\n",
    "    Returns:\n",
    "        np.ndarray: shape (Q,), where element i is nDCG@k for query i.\n",
    "                    If a query has no relevant docs (or IDCG=0), its score is defined to be 0.\n",
    "    \"\"\"\n",
    "    # Basic sanity checks\n",
    "    Q, d_q = query_embs.shape\n",
    "    N, d_d = doc_embs.shape\n",
    "    assert d_q == d_d, f\"Embedding-dim mismatch: queries have dim {d_q}, docs have dim {d_d}\"\n",
    "    assert len(relevant_doc_indices_list) == Q, \"You must supply exactly Q lists of relevant indices.\"\n",
    "\n",
    "    # 1) Pre-normalize document embeddings (so we only do it once)\n",
    "    doc_norms = np.linalg.norm(doc_embs, axis=1)\n",
    "    zero_mask = (doc_norms == 0)\n",
    "    # Avoid division by zero: for any zero-norm doc, set its unit vector to all zeros\n",
    "    doc_norms[zero_mask] = 1.0\n",
    "    doc_unit = doc_embs / doc_norms[:, np.newaxis]\n",
    "    doc_unit[zero_mask] = 0.0  # explicitly zero out any row that was zero-norm\n",
    "\n",
    "    # Prepare an array to hold all Q scores\n",
    "    ndcg_scores = np.zeros(Q, dtype=float)\n",
    "\n",
    "    # Precompute discount factors for positions 1..k (shared across all queries)\n",
    "    positions = np.arange(1, k + 1)\n",
    "    discount = 1.0 / np.log2(positions + 1)   # discount[j] = 1 / log2((j+1)+1) for j=0..k-1\n",
    "\n",
    "    # 2) Loop over each query\n",
    "    top_k_list = []\n",
    "    for i in range(Q):\n",
    "        q_emb = query_embs[i]\n",
    "        rel_indices = relevant_doc_indices_list[i]  # list of ints in [0..N-1]\n",
    "\n",
    "        # 2a) Normalize this query\n",
    "        q_norm = np.linalg.norm(q_emb)\n",
    "        if q_norm == 0:\n",
    "            # If query is zero vector, we arbitrarily define its nDCG=0\n",
    "            ndcg_scores[i] = 0.0\n",
    "            continue\n",
    "        q_unit = q_emb / q_norm\n",
    "\n",
    "        # 2b) Compute cosine similarities: shape (N,)\n",
    "        sims = doc_unit @ q_unit\n",
    "\n",
    "        # 2c) Get top-k document indices (highest sims first)\n",
    "        ranked = np.argsort(-sims)[:k]   # an array of length k\n",
    "        ranked = [idx_map[i] for i in ranked]\n",
    "        top_k_list.append(ranked)\n",
    "        \n",
    "        # 2d) Build a binary relevance vector `rels_topk` of length k\n",
    "        #     rels_topk[j] = 1 if ranked[j] is in rel_indices, else 0\n",
    "        rels_topk = np.zeros(k, dtype=float)\n",
    "        if len(rel_indices) > 0:\n",
    "            # We can speed up membership test by turning rel_indices into a set\n",
    "            rel_set = set(rel_indices)\n",
    "            for pos, doc_idx in enumerate(ranked):\n",
    "                if doc_idx in rel_set:\n",
    "                    rels_topk[pos] = 1.0\n",
    "\n",
    "        # 2e) Compute DCG@k = sum_{j=1..k} (2^rel_j - 1) / log2(j+1)\n",
    "        #     Since rel_j is either 0 or 1, (2^rel_j - 1) is just rel_j.\n",
    "        gains = rels_topk   # (2^1 - 1) = 1, (2^0 - 1) = 0\n",
    "        dcg  = np.sum(gains * discount)\n",
    "\n",
    "        # 2f) Compute IDCG@k: when all relevant docs are packed at the top.\n",
    "        #     If there are R = len(rel_indices) relevant docs, then ideal_rels = [1,1,1,...  R times ... , 0,0,...] truncated/padded to length k.\n",
    "        R = min(len(rel_indices), k)\n",
    "        if R == 0:\n",
    "            # No relevant documents for this query → define nDCG=0\n",
    "            ndcg_scores[i] = 0.0\n",
    "            continue\n",
    "\n",
    "        # top R positions each have relevance=1, so\n",
    "        # IDCG = sum_{j=1..R} 1 / log2(j+1)\n",
    "        ideal_dcg = np.sum(discount[:R])\n",
    "\n",
    "        # 2g) nDCG = DCG / IDCG\n",
    "        ndcg_scores[i] = (dcg / ideal_dcg) if (ideal_dcg > 0) else 0.0\n",
    "\n",
    "    return ndcg_scores, top_k_list"
   ]
  },
  {
   "cell_type": "code",
   "execution_count": 622,
   "id": "7618cbd0",
   "metadata": {},
   "outputs": [],
   "source": [
    "from typing import List\n",
    "\n",
    "def hit_ratio_at_k(\n",
    "    topk_list: List[List[int]],\n",
    "    relevant_list: List[List[int]],\n",
    "    k: int = 10\n",
    ") -> List[float]:\n",
    "    \"\"\"\n",
    "    Compute the Hit-Ratio@k for each query.\n",
    "\n",
    "    Args:\n",
    "      topk_list:     List of length Q, each a list of the top-k retrieved doc IDs.\n",
    "      relevant_list: List of length Q, each a list (or set) of true relevant doc IDs.\n",
    "      k:             Cutoff (defaults to 10).\n",
    "\n",
    "    Returns:\n",
    "      List of length Q where each element is:\n",
    "        len(relevant ∩ topk[:k]) / len(relevant)\n",
    "      (0.0 if there are no relevant docs).\n",
    "    \"\"\"\n",
    "    ratios = []\n",
    "    for topk, rel in zip(topk_list, relevant_list):\n",
    "        rel_set = set(rel)\n",
    "        if not rel_set:\n",
    "            # define hit-ratio as 0 when no ground-truth\n",
    "            ratios.append(0.0)\n",
    "        else:\n",
    "            retrieved = set(topk[:k])\n",
    "            ratios.append(len(rel_set & retrieved) / len(rel_set))\n",
    "    return ratios"
   ]
  },
  {
   "cell_type": "code",
   "execution_count": 623,
   "id": "c291ff05",
   "metadata": {},
   "outputs": [],
   "source": [
    "start_idx = 0\n",
    "end_idx = 400"
   ]
  },
  {
   "cell_type": "code",
   "execution_count": 624,
   "id": "0ab7f248",
   "metadata": {},
   "outputs": [
    {
     "data": {
      "text/plain": [
       "(array([0.14804096, 0.13565197, 0.46927873, 0.67138607, 0.23463936,\n",
       "        0.46927873, 0.46927873, 0.46927873, 0.46927873, 0.        ,\n",
       "        0.13565197, 0.46927873, 0.63643918, 0.14126697, 0.16716045,\n",
       "        0.46927873, 0.3044672 , 0.38364914, 0.        , 0.90602544,\n",
       "        0.23463936, 0.46927873, 0.46927873, 0.15642624, 0.        ,\n",
       "        0.6049307 , 0.14804096, 0.        , 0.23463936, 0.        ,\n",
       "        0.14126697, 0.46927873, 0.20210735, 0.18154179, 0.14126697,\n",
       "        0.6049307 , 0.        , 0.        , 0.45250815, 0.        ,\n",
       "        0.        , 0.23463936, 0.46927873, 0.29608191, 0.3692678 ,\n",
       "        0.        , 0.23463936, 0.46927873, 0.        , 0.46927873,\n",
       "        0.46927873, 0.14126697, 0.62570497, 0.40179982, 0.46927873,\n",
       "        0.15642624, 0.14126697, 0.46927873, 0.        , 0.35853359,\n",
       "        0.46927873, 0.        , 0.76536064, 0.        , 0.31520141,\n",
       "        0.14126697, 0.33796803, 0.29608191, 0.        , 0.46927873,\n",
       "        0.23463936, 0.46927873, 0.6049307 , 0.15642624, 0.29608191,\n",
       "        0.41618116, 0.29608191, 0.46927873, 1.        , 0.83155463,\n",
       "        0.61314719, 0.61314719, 0.61314719, 0.83155463, 0.61314719,\n",
       "        0.61314719, 0.61314719, 0.8065736 , 0.61314719, 0.        ,\n",
       "        0.38685281, 0.38685281, 0.91972079, 0.61314719, 0.26406812,\n",
       "        1.        , 0.61314719, 0.38685281, 0.61314719, 0.61314719,\n",
       "        1.        , 0.85034491, 0.5714285 , 0.61314719, 0.61314719,\n",
       "        0.61314719, 0.5714285 , 0.61314719, 0.61314719, 0.79038648,\n",
       "        0.61314719, 0.61314719, 0.83155463, 0.29608191, 0.5714285 ,\n",
       "        0.61314719, 0.17723929, 0.61314719, 0.56409209, 0.61314719,\n",
       "        0.61314719, 1.        , 0.21840744, 0.87721532, 0.61314719,\n",
       "        0.        , 0.61314719, 0.61314719, 0.38685281, 1.        ,\n",
       "        1.        , 0.57064172, 0.61314719, 0.3065736 , 0.61314719,\n",
       "        0.61314719, 0.61314719, 0.26406812, 0.61314719, 0.3065736 ,\n",
       "        0.61314719, 0.62405052, 0.83155463, 0.61314719, 0.91972079,\n",
       "        0.54377131, 0.91972079, 0.56409209, 0.61314719, 1.        ,\n",
       "        0.3065736 , 0.61314719, 1.        , 0.3065736 , 0.61314719,\n",
       "        0.50126584, 0.79038648, 0.61314719, 0.8065736 , 0.26406812,\n",
       "        0.61314719, 0.85034491, 0.61314719, 0.61314719, 0.61314719,\n",
       "        0.3065736 , 0.38685281, 1.        , 0.91972079, 0.61314719,\n",
       "        0.61314719, 0.81752959, 0.61314719, 0.87721532, 0.61314719,\n",
       "        0.61314719, 0.81752959, 0.61314719, 0.79038648, 0.79772289,\n",
       "        0.61314719, 0.61314719, 0.81752959, 0.61314719, 0.23719771,\n",
       "        0.79038648, 0.61314719, 0.3065736 , 1.        , 0.26406812,\n",
       "        0.61314719, 0.61314719, 0.61314719, 0.61314719, 0.87721532,\n",
       "        0.91972079, 0.61314719, 0.61314719, 0.65092093, 0.61314719,\n",
       "        0.61314719, 0.26406812, 0.61314719, 0.61314719, 0.61314719,\n",
       "        0.85034491, 0.85034491, 0.61314719, 0.87721532, 0.61314719,\n",
       "        0.61314719, 0.61314719, 0.38685281, 0.49114929, 0.85034491,\n",
       "        1.        , 1.        , 0.38685281, 0.61314719, 0.61314719,\n",
       "        0.61314719, 0.65092093, 0.61314719, 0.83155463, 0.91972079,\n",
       "        0.61314719, 0.38685281, 1.        , 0.87721532, 0.61314719,\n",
       "        0.23719771, 0.45250815, 0.61314719, 0.61314719, 0.61314719,\n",
       "        0.38685281, 0.38685281, 0.81752959, 0.87721532, 0.8065736 ,\n",
       "        0.61314719, 0.20210735, 0.61314719, 1.        , 0.61314719,\n",
       "        0.61314719, 0.91972079, 1.        , 0.79772289, 0.61314719,\n",
       "        0.61314719, 0.81752959, 0.61314719, 0.6934264 , 0.38685281,\n",
       "        0.61314719, 0.14804096, 0.91972079, 0.3065736 , 0.        ,\n",
       "        0.61314719, 0.61314719, 0.91972079, 0.57064172, 0.2043824 ,\n",
       "        0.61314719, 0.61314719, 0.3065736 , 0.61314719, 0.38685281,\n",
       "        0.61314719, 0.61314719, 1.        , 0.61314719, 0.65092093,\n",
       "        0.61314719, 0.61314719, 0.61314719, 0.8065736 , 0.5912352 ,\n",
       "        0.38685281, 0.61314719, 0.85034491, 0.61314719, 0.49114929,\n",
       "        0.61314719, 0.87721532, 0.85034491, 0.61314719, 0.83155463,\n",
       "        0.38685281, 1.        , 0.85034491, 0.61314719, 0.61314719,\n",
       "        0.61314719, 0.61314719, 0.61314719, 0.61314719, 0.20210735,\n",
       "        0.61314719, 0.60526024, 0.61314719, 0.87721532, 0.6934264 ,\n",
       "        0.38685281, 0.        , 0.61314719, 0.38685281, 0.61314719,\n",
       "        0.61314719, 0.21840744, 0.61314719, 0.8065736 , 0.3065736 ,\n",
       "        0.61314719, 0.61314719, 0.38685281, 0.61314719, 0.38685281,\n",
       "        0.61314719, 0.61314719, 0.61314719, 0.45749453, 0.61314719,\n",
       "        0.91972079, 0.38685281, 0.41183384, 0.3065736 , 0.61314719,\n",
       "        0.61314719, 0.85034491, 0.61314719, 0.61314719, 0.91972079,\n",
       "        0.61314719, 0.91972079, 0.61314719, 0.61314719, 0.62405052,\n",
       "        0.61314719, 0.61314719, 0.61314719, 1.        , 1.        ,\n",
       "        0.61314719, 0.61314719, 0.87721532, 0.61314719, 0.38685281,\n",
       "        0.61314719, 1.        , 0.87721532, 1.        , 0.61314719,\n",
       "        0.38685281, 0.61314719, 0.61314719, 0.20210735, 0.61314719,\n",
       "        0.61314719, 1.        , 0.61314719, 1.        , 0.61314719,\n",
       "        0.61314719, 0.61314719, 0.91972079, 0.58557007, 0.63668244,\n",
       "        0.39038005, 0.        , 0.58054859, 0.24297182, 0.39038005,\n",
       "        0.        , 0.39038005, 0.19519002, 0.51353124, 0.60961995,\n",
       "        0.41442993, 0.39038005, 0.24630239, 0.15101962, 0.39038005,\n",
       "        0.24630239, 0.39038005, 0.1175161 , 0.15101962, 0.39038005,\n",
       "        0.13905618, 0.39038005, 0.19519002, 0.13012668, 0.73658969,\n",
       "        0.39038005, 0.19519002, 0.39038005, 0.24297182, 0.54139967]),\n",
       " 0.540983626246185,\n",
       " 0.5739583333333332)"
      ]
     },
     "execution_count": 624,
     "metadata": {},
     "output_type": "execute_result"
    }
   ],
   "source": [
    "score, rank = ndcg_at_k_multi(query_embeddings[start_idx:end_idx],doc_embeddings,rel_docs[start_idx:end_idx],sub_paragraph_concat_idx, 10)\n",
    "hit = hit_ratio_at_k(rank, rel_docs[start_idx:end_idx])\n",
    "score, np.mean(score), np.mean(hit)"
   ]
  },
  {
   "cell_type": "code",
   "execution_count": 625,
   "id": "adf7fe4a",
   "metadata": {},
   "outputs": [
    {
     "data": {
      "text/plain": [
       "(array([0.76536064, 0.18154179, 0.49818926, 0.71226307, 0.6105457 ,\n",
       "        0.15642624, 0.18154179, 0.76536064, 0.61731968, 0.28930793,\n",
       "        0.34870225, 0.93252109, 0.62570497, 0.81798097, 0.57239868,\n",
       "        0.88545988, 0.40179982, 0.4776237 , 0.62570497, 0.46927873,\n",
       "        0.40179982, 0.40179982, 0.        , 0.46927873, 0.29608191,\n",
       "        0.63643918, 0.63643918, 0.3692678 , 0.82781231, 0.14804096,\n",
       "        0.29608191, 0.29608191, 0.33796803, 0.46927873, 0.        ,\n",
       "        0.76536064, 0.29608191, 0.43674671, 0.62570497, 0.14126697,\n",
       "        0.65082052, 0.38268032, 0.46927873, 0.6049307 , 0.6049307 ,\n",
       "        0.67138607, 0.29769321, 0.80724676, 0.63643918, 0.46927873,\n",
       "        0.91340159, 0.46927873, 0.88545988, 0.70391809, 0.46927873,\n",
       "        0.29608191, 0.46927873, 0.62570497, 0.        , 0.6049307 ,\n",
       "        0.76536064, 0.18154179, 0.84518506, 0.76536064, 0.23463936,\n",
       "        0.46927873, 0.85292787, 0.        , 0.        , 0.43734888,\n",
       "        0.46927873, 0.76536064, 0.49818926, 0.18154179, 0.82781231,\n",
       "        0.46927873, 0.76536064, 0.46927873, 1.        , 1.        ,\n",
       "        1.        , 1.        , 0.81752959, 0.91972079, 0.62405052,\n",
       "        1.        , 0.23719771, 1.        , 1.        , 0.        ,\n",
       "        0.23719771, 0.38685281, 0.26406812, 0.38685281, 0.5714285 ,\n",
       "        0.87721532, 0.48381288, 0.61314719, 0.61314719, 0.3065736 ,\n",
       "        0.87721532, 0.61314719, 0.85034491, 0.62405052, 1.        ,\n",
       "        1.        , 0.83155463, 0.51095599, 1.        , 1.        ,\n",
       "        0.        , 0.81752959, 0.42278983, 0.88545988, 0.8065736 ,\n",
       "        0.83155463, 0.65092093, 1.        , 0.91972079, 0.61314719,\n",
       "        1.        , 1.        , 0.79772289, 0.60526024, 0.2043824 ,\n",
       "        0.23719771, 1.        , 0.85034491, 0.57064172, 1.        ,\n",
       "        1.        , 0.85034491, 0.61314719, 0.45560515, 0.        ,\n",
       "        0.        , 0.85034491, 0.414437  , 0.58027921, 0.26406812,\n",
       "        0.83155463, 0.91972079, 0.87721532, 1.        , 1.        ,\n",
       "        0.38685281, 0.36181498, 0.38685281, 0.87721532, 0.91972079,\n",
       "        0.26406812, 1.        , 1.        , 1.        , 0.61314719,\n",
       "        0.83155463, 0.61314719, 0.91972079, 0.91972079, 0.        ,\n",
       "        0.3065736 , 1.        , 0.23719771, 0.44158011, 0.60526024,\n",
       "        0.3065736 , 0.87721532, 1.        , 1.        , 1.        ,\n",
       "        0.23719771, 0.81752959, 0.38685281, 1.        , 0.3065736 ,\n",
       "        0.91972079, 1.        , 0.61314719, 0.87721532, 0.5       ,\n",
       "        1.        , 1.        , 1.        , 0.61314719, 0.44864382,\n",
       "        1.        , 0.91972079, 0.91972079, 1.        , 0.        ,\n",
       "        0.61314719, 0.91972079, 0.8065736 , 0.38685281, 1.        ,\n",
       "        0.61314719, 0.87721532, 0.        , 0.44130741, 1.        ,\n",
       "        0.        , 0.61314719, 1.        , 0.5714285 , 0.57064172,\n",
       "        0.6934264 , 0.6934264 , 0.38685281, 1.        , 0.83155463,\n",
       "        1.        , 1.        , 0.61314719, 0.54377131, 0.65092093,\n",
       "        1.        , 1.        , 0.61314719, 0.50126584, 0.23719771,\n",
       "        0.85034491, 0.83155463, 0.3065736 , 0.91972079, 0.6934264 ,\n",
       "        0.91972079, 0.61314719, 1.        , 1.        , 0.        ,\n",
       "        0.6934264 , 0.63643918, 0.91972079, 0.83155463, 0.6934264 ,\n",
       "        0.17723929, 0.39564672, 1.        , 0.42177341, 0.65092093,\n",
       "        0.87721532, 0.18154179, 0.37066569, 1.        , 0.57064172,\n",
       "        1.        , 0.91972079, 1.        , 0.91972079, 0.3065736 ,\n",
       "        0.91972079, 0.38685281, 1.        , 1.        , 0.8065736 ,\n",
       "        0.87721532, 0.33796803, 1.        , 0.61314719, 0.5714285 ,\n",
       "        1.        , 0.54377131, 0.91972079, 0.91972079, 0.87721532,\n",
       "        0.3065736 , 0.61314719, 0.3065736 , 1.        , 0.83155463,\n",
       "        1.        , 0.1845757 , 1.        , 0.61314719, 0.87721532,\n",
       "        0.8065736 , 0.91972079, 0.38162168, 0.87721532, 0.52498103,\n",
       "        0.3065736 , 0.61314719, 0.87721532, 0.48247556, 0.17723929,\n",
       "        0.61314719, 0.6934264 , 0.61314719, 0.61314719, 0.61314719,\n",
       "        0.1934264 , 0.6934264 , 0.91972079, 0.91972079, 0.62405052,\n",
       "        0.62405052, 0.61314719, 0.21840744, 0.91972079, 0.20210735,\n",
       "        0.58027921, 0.6934264 , 0.61314719, 1.        , 1.        ,\n",
       "        0.91972079, 0.46845052, 1.        , 0.51095599, 0.61314719,\n",
       "        0.91972079, 0.85034491, 0.61314719, 0.6934264 , 0.87721532,\n",
       "        1.        , 0.57064172, 0.45560515, 0.61314719, 0.6934264 ,\n",
       "        0.6934264 , 0.61314719, 1.        , 0.        , 1.        ,\n",
       "        0.91972079, 0.23719771, 0.61314719, 0.85034491, 0.6934264 ,\n",
       "        0.5912352 , 0.81752959, 0.61314719, 0.91972079, 1.        ,\n",
       "        1.        , 0.91972079, 0.61314719, 0.23719771, 1.        ,\n",
       "        1.        , 0.        , 1.        , 0.87721532, 0.91972079,\n",
       "        0.61314719, 0.6934264 , 0.91972079, 0.21840744, 0.2043824 ,\n",
       "        0.61314719, 0.83155463, 0.91972079, 1.        , 1.        ,\n",
       "        0.17723929, 0.65092093, 0.91972079, 0.90602544, 1.        ,\n",
       "        0.61314719, 1.        , 0.40298313, 0.83155463, 0.49114929,\n",
       "        0.50126584, 1.        , 0.5714285 , 0.        , 0.24630239,\n",
       "        0.39038005, 0.        , 0.36381849, 0.        , 0.39038005,\n",
       "        0.        , 0.75369761, 0.92796117, 0.24630239, 0.55850759,\n",
       "        0.73658969, 0.53194603, 0.        , 0.13012668, 0.        ,\n",
       "        0.        , 0.2406673 , 0.        , 0.24630239, 0.        ,\n",
       "        0.55850759, 0.12315119, 0.        , 0.12315119, 0.55850759,\n",
       "        0.19519002, 0.        , 0.        , 0.24630239, 0.        ]),\n",
       " 0.6191172630816065,\n",
       " 0.7339583333333333)"
      ]
     },
     "execution_count": 625,
     "metadata": {},
     "output_type": "execute_result"
    }
   ],
   "source": [
    "score_concat, rank_concat = ndcg_at_k_multi(query_embeddings[start_idx:end_idx],doc_embeddings_concat,rel_docs[start_idx:end_idx], sub_paragraph_concat_idx, 10)\n",
    "hit_concat = hit_ratio_at_k(rank_concat, rel_docs[start_idx:end_idx])\n",
    "score_concat, np.mean(score_concat), np.mean(hit_concat)"
   ]
  },
  {
   "cell_type": "code",
   "execution_count": 626,
   "id": "b997d36d",
   "metadata": {},
   "outputs": [],
   "source": [
    "# hit_key = hit_ratio_at_k(rank, key_doc_list[start_idx:end_idx])\n",
    "# np.mean(hit_key)"
   ]
  },
  {
   "cell_type": "code",
   "execution_count": 627,
   "id": "30814f32",
   "metadata": {},
   "outputs": [
    {
     "data": {
      "text/plain": [
       "(array([0.65082052, 0.18154179, 0.43674671, 0.68714752, 0.63643918,\n",
       "        0.15642624, 0.65082052, 0.46927873, 0.39106561, 0.32958275,\n",
       "        0.70391809, 0.76536064, 0.63643918, 0.91340159, 0.43674671,\n",
       "        0.85195904, 0.61731968, 0.65082052, 0.46927873, 0.6049307 ,\n",
       "        0.49818926, 0.43674671, 0.46927873, 0.63643918, 0.4776237 ,\n",
       "        0.46927873, 0.76536064, 0.6105457 , 0.83854653, 0.23463936,\n",
       "        0.        , 0.49818926, 0.46324237, 0.6049307 , 0.        ,\n",
       "        0.96746798, 0.32958275, 0.44412287, 0.34337432, 0.29608191,\n",
       "        0.62570497, 0.38364914, 0.61731968, 0.46927873, 0.62570497,\n",
       "        0.33775932, 0.6105457 , 0.61731968, 0.29608191, 0.29608191,\n",
       "        0.96746798, 0.46927873, 0.67138607, 0.79886147, 0.46927873,\n",
       "        0.27691895, 0.        , 0.29769321, 0.        , 0.63643918,\n",
       "        0.46927873, 0.29608191, 0.63643918, 0.49818926, 0.23463936,\n",
       "        0.46927873, 0.85292787, 0.46927873, 0.29608191, 0.53072127,\n",
       "        0.        , 0.76536064, 0.6546155 , 0.13565197, 0.83854653,\n",
       "        0.63643918, 0.6105457 , 0.15642624, 1.        , 0.79772289,\n",
       "        1.        , 0.85034491, 1.        , 1.        , 0.6934264 ,\n",
       "        0.3065736 , 0.        , 1.        , 0.91972079, 0.        ,\n",
       "        0.        , 0.        , 0.        , 0.        , 0.56409209,\n",
       "        0.62405052, 0.61314719, 0.        , 0.65092093, 0.26406812,\n",
       "        0.45749453, 0.61314719, 1.        , 0.23719771, 1.        ,\n",
       "        1.        , 0.5       , 0.26406812, 1.        , 1.        ,\n",
       "        0.        , 0.6934264 , 0.23719771, 0.62566466, 0.48247556,\n",
       "        0.21840744, 0.57064172, 1.        , 0.87721532, 0.        ,\n",
       "        0.6934264 , 1.        , 0.61314719, 0.62405052, 0.        ,\n",
       "        0.1934264 , 1.        , 0.85034491, 0.57064172, 1.        ,\n",
       "        1.        , 1.        , 0.61314719, 0.61314719, 0.        ,\n",
       "        0.        , 1.        , 0.50126584, 0.2043824 , 0.1845757 ,\n",
       "        0.26406812, 0.91972079, 0.6934264 , 0.1934264 , 1.        ,\n",
       "        0.38685281, 0.5       , 0.50126584, 0.85034491, 0.61314719,\n",
       "        0.        , 0.61314719, 1.        , 1.        , 0.23719771,\n",
       "        0.85034491, 0.87721532, 0.3065736 , 1.        , 0.        ,\n",
       "        0.58027921, 1.        , 0.61314719, 0.17723929, 0.62405052,\n",
       "        0.17723929, 0.91972079, 1.        , 0.91972079, 0.61314719,\n",
       "        0.        , 0.91972079, 0.        , 0.87721532, 0.3065736 ,\n",
       "        1.        , 0.81752959, 0.        , 1.        , 0.54377131,\n",
       "        0.91972079, 0.91972079, 1.        , 0.        , 0.61314719,\n",
       "        1.        , 1.        , 0.57064172, 1.        , 0.3065736 ,\n",
       "        0.21840744, 0.3065736 , 0.61314719, 0.2043824 , 0.91972079,\n",
       "        0.61314719, 1.        , 0.38685281, 0.8065736 , 0.91972079,\n",
       "        0.        , 0.26406812, 1.        , 0.23719771, 0.65092093,\n",
       "        0.85034491, 0.85034491, 0.        , 1.        , 0.79772289,\n",
       "        1.        , 1.        , 0.        , 0.52498103, 0.65092093,\n",
       "        1.        , 1.        , 0.38685281, 0.3065736 , 0.1845757 ,\n",
       "        0.61314719, 0.61314719, 0.        , 0.36181498, 0.6934264 ,\n",
       "        0.61314719, 0.61314719, 1.        , 1.        , 0.        ,\n",
       "        0.6934264 , 0.61731968, 0.91972079, 0.38685281, 0.83155463,\n",
       "        0.        , 0.85034491, 0.38685281, 0.65092093, 0.5912352 ,\n",
       "        0.85034491, 0.18154179, 0.38685281, 1.        , 0.5912352 ,\n",
       "        1.        , 1.        , 0.6934264 , 0.23719771, 0.23719771,\n",
       "        0.61314719, 0.5       , 0.38685281, 1.        , 0.38685281,\n",
       "        0.87721532, 0.37590634, 0.79038648, 0.        , 0.21840744,\n",
       "        1.        , 0.        , 0.91972079, 0.91972079, 0.43062412,\n",
       "        0.1845757 , 0.        , 0.81752959, 1.        , 0.87721532,\n",
       "        0.61314719, 0.        , 1.        , 0.61314719, 0.61314719,\n",
       "        0.23719771, 0.83155463, 0.1934264 , 0.91972079, 0.85034491,\n",
       "        0.5714285 , 0.        , 0.3065736 , 0.52498103, 0.17723929,\n",
       "        0.38685281, 1.        , 0.        , 0.91972079, 0.38685281,\n",
       "        0.61314719, 0.91972079, 0.83155463, 0.61314719, 0.57064172,\n",
       "        0.2043824 , 0.        , 0.21840744, 1.        , 0.20210735,\n",
       "        0.38685281, 0.65092093, 0.17723929, 0.85034491, 1.        ,\n",
       "        1.        , 0.45749453, 1.        , 0.        , 0.61314719,\n",
       "        1.        , 0.81752959, 1.        , 0.61314719, 0.62405052,\n",
       "        0.87721532, 0.61314719, 0.54377131, 0.        , 0.6934264 ,\n",
       "        0.3065736 , 0.61314719, 1.        , 0.21840744, 0.87721532,\n",
       "        0.5912352 , 0.3065736 , 0.87721532, 1.        , 0.91972079,\n",
       "        0.2043824 , 1.        , 0.87721532, 1.        , 1.        ,\n",
       "        1.        , 0.91972079, 0.38685281, 0.        , 1.        ,\n",
       "        0.85034491, 0.61314719, 0.61314719, 0.87721532, 0.87721532,\n",
       "        0.        , 0.6934264 , 0.91972079, 0.        , 0.        ,\n",
       "        0.38685281, 0.87721532, 0.87721532, 1.        , 1.        ,\n",
       "        0.38685281, 0.61314719, 1.        , 0.82781231, 1.        ,\n",
       "        0.61314719, 0.8065736 , 0.79772289, 1.        , 0.61314719,\n",
       "        0.62405052, 1.        , 1.        , 0.        , 0.44149241,\n",
       "        0.39038005, 0.        , 0.28097268, 0.13012668, 0.        ,\n",
       "        0.        , 0.83187246, 0.75983363, 0.19519002, 0.53194603,\n",
       "        0.75369761, 0.19519002, 0.        , 0.1175161 , 0.        ,\n",
       "        0.        , 0.        , 0.        , 0.15101962, 0.        ,\n",
       "        0.19519002, 0.        , 0.        , 0.        , 0.58557007,\n",
       "        0.13012668, 0.        , 0.        , 0.        , 0.        ]),\n",
       " 0.5477187881386558,\n",
       " 0.65125)"
      ]
     },
     "execution_count": 627,
     "metadata": {},
     "output_type": "execute_result"
    }
   ],
   "source": [
    "score_mp, rank_mp = ndcg_at_k_multi(query_embeddings[start_idx:end_idx],doc_embeddings_mp,rel_docs[start_idx:end_idx], sub_paragraph_concat_idx, 10)\n",
    "hit_mp = hit_ratio_at_k(rank_mp, rel_docs[start_idx:end_idx])\n",
    "score_mp, np.mean(score_mp), np.mean(hit_mp)"
   ]
  },
  {
   "cell_type": "code",
   "execution_count": 628,
   "id": "3db302d8",
   "metadata": {},
   "outputs": [
    {
     "data": {
      "text/plain": [
       "(array([0.61731968, 0.        , 0.43674671, 0.68714752, 0.67138607,\n",
       "        0.20210735, 0.76536064, 0.76536064, 0.23463936, 0.28930793,\n",
       "        0.67138607, 0.76536064, 0.80703805, 0.93252109, 0.40179982,\n",
       "        0.66637325, 0.61731968, 0.63643918, 0.29608191, 0.76135694,\n",
       "        0.65082052, 0.43674671, 0.62570497, 0.61731968, 0.65082052,\n",
       "        0.61731968, 0.93252109, 0.62570497, 0.90662761, 0.46927873,\n",
       "        0.46927873, 0.49818926, 0.77209115, 0.6049307 , 0.        ,\n",
       "        1.        , 0.        , 0.44412287, 0.41618116, 0.29608191,\n",
       "        0.70391809, 0.4776237 , 0.63643918, 0.43674671, 0.67138607,\n",
       "        0.20210735, 0.67138607, 0.92178688, 0.46927873, 0.29608191,\n",
       "        0.85195904, 0.90101261, 0.67138607, 0.86034433, 0.46927873,\n",
       "        0.14804096, 0.29608191, 0.43734888, 0.        , 0.63643918,\n",
       "        0.13565197, 0.29608191, 0.83957006, 0.70391809, 0.23463936,\n",
       "        0.46927873, 0.6182885 , 0.46927873, 0.38364914, 0.70391809,\n",
       "        0.34870225, 0.70391809, 0.81265305, 0.29608191, 0.83854653,\n",
       "        0.61731968, 0.65082052, 0.18154179, 1.        , 0.91972079,\n",
       "        0.87721532, 0.91972079, 1.        , 0.91972079, 0.6934264 ,\n",
       "        0.61314719, 0.38685281, 1.        , 1.        , 0.        ,\n",
       "        0.        , 0.        , 0.83155463, 0.        , 0.60526024,\n",
       "        0.87721532, 0.61314719, 0.        , 0.85034491, 0.61314719,\n",
       "        0.5       , 0.61314719, 0.87721532, 0.61314719, 0.79772289,\n",
       "        0.87721532, 0.87721532, 0.61314719, 0.91972079, 1.        ,\n",
       "        0.        , 0.91972079, 0.23719771, 0.79286542, 0.62405052,\n",
       "        0.81752959, 0.6934264 , 1.        , 1.        , 0.2043824 ,\n",
       "        0.61314719, 1.        , 0.61314719, 0.85034491, 0.38685281,\n",
       "        0.1934264 , 1.        , 1.        , 0.57064172, 1.        ,\n",
       "        1.        , 1.        , 0.61314719, 0.61314719, 0.        ,\n",
       "        0.        , 0.91972079, 0.52498103, 0.26406812, 0.5912352 ,\n",
       "        0.61314719, 0.6934264 , 1.        , 0.3065736 , 1.        ,\n",
       "        0.48381288, 0.60526024, 0.83155463, 0.91972079, 0.38685281,\n",
       "        0.        , 0.61314719, 1.        , 1.        , 0.41183384,\n",
       "        0.85034491, 0.87721532, 0.38685281, 1.        , 0.        ,\n",
       "        0.5714285 , 1.        , 0.61314719, 0.414437  , 0.65092093,\n",
       "        0.45560515, 0.83155463, 1.        , 0.61314719, 0.61314719,\n",
       "        0.38685281, 1.        , 0.        , 1.        , 0.26406812,\n",
       "        0.91972079, 0.81752959, 0.        , 1.        , 0.87721532,\n",
       "        1.        , 0.91972079, 1.        , 0.26406812, 0.61314719,\n",
       "        1.        , 1.        , 0.52498103, 1.        , 0.23719771,\n",
       "        0.38685281, 0.61314719, 1.        , 0.38685281, 1.        ,\n",
       "        0.61314719, 0.91972079, 0.61314719, 0.60526024, 0.83155463,\n",
       "        0.26406812, 0.3065736 , 1.        , 0.61314719, 0.87721532,\n",
       "        1.        , 0.85034491, 0.26406812, 0.61314719, 0.87721532,\n",
       "        0.91972079, 1.        , 0.79038648, 0.52498103, 0.87721532,\n",
       "        1.        , 1.        , 0.5912352 , 0.61314719, 0.23719771,\n",
       "        0.61314719, 0.81752959, 0.1845757 , 0.83155463, 0.6934264 ,\n",
       "        0.8065736 , 0.83155463, 1.        , 1.        , 0.        ,\n",
       "        0.6934264 , 0.62570497, 0.91972079, 0.61314719, 0.87721532,\n",
       "        0.        , 0.65092093, 0.79772289, 0.6934264 , 0.85034491,\n",
       "        0.87721532, 0.18154179, 0.38685281, 1.        , 0.62405052,\n",
       "        1.        , 1.        , 0.91972079, 0.56409209, 0.        ,\n",
       "        0.61314719, 0.46845052, 0.61314719, 1.        , 0.56409209,\n",
       "        0.83155463, 0.61128332, 0.83155463, 0.        , 0.3065736 ,\n",
       "        1.        , 0.23719771, 0.91972079, 0.91972079, 0.52498103,\n",
       "        0.38685281, 0.38685281, 0.85034491, 0.85034491, 0.8065736 ,\n",
       "        0.61314719, 0.        , 1.        , 0.6934264 , 0.62405052,\n",
       "        0.83155463, 0.87721532, 0.61314719, 0.91972079, 0.85034491,\n",
       "        0.5       , 0.1845757 , 0.62405052, 0.54377131, 0.17723929,\n",
       "        0.44158011, 1.        , 0.61314719, 0.87721532, 0.6934264 ,\n",
       "        0.87721532, 1.        , 1.        , 0.38685281, 0.65092093,\n",
       "        0.38895809, 0.        , 0.21840744, 1.        , 0.20210735,\n",
       "        0.38685281, 0.6934264 , 0.61314719, 0.83155463, 0.91972079,\n",
       "        0.91972079, 0.3065736 , 1.        , 0.        , 0.61314719,\n",
       "        0.6934264 , 0.81752959, 1.        , 0.61314719, 0.58027921,\n",
       "        0.91972079, 0.85034491, 0.6934264 , 0.        , 0.65092093,\n",
       "        0.38685281, 0.91972079, 1.        , 0.51095599, 1.        ,\n",
       "        0.65092093, 0.3065736 , 0.8065736 , 1.        , 0.91972079,\n",
       "        0.38685281, 1.        , 1.        , 1.        , 1.        ,\n",
       "        1.        , 0.91972079, 0.3065736 , 0.61314719, 0.91972079,\n",
       "        1.        , 0.61314719, 0.61314719, 0.87721532, 1.        ,\n",
       "        0.        , 0.91972079, 1.        , 0.2043824 , 0.23719771,\n",
       "        0.21840744, 1.        , 1.        , 1.        , 0.61314719,\n",
       "        0.38685281, 0.61314719, 1.        , 0.60390716, 1.        ,\n",
       "        1.        , 1.        , 0.79038648, 1.        , 0.61314719,\n",
       "        0.85034491, 1.        , 1.        , 0.        , 0.41442993,\n",
       "        0.39038005, 0.        , 0.45176231, 0.15101962, 0.        ,\n",
       "        0.        , 0.80480998, 0.58557007, 0.52943623, 0.73658969,\n",
       "        0.73658969, 0.54139967, 0.        , 0.11284514, 0.39038005,\n",
       "        0.1175161 , 0.11284514, 0.        , 0.16812754, 0.24630239,\n",
       "        0.39038005, 0.19519002, 0.13905618, 0.        , 0.63668244,\n",
       "        0.13012668, 0.        , 0.19519002, 0.19519002, 0.39038005]),\n",
       " 0.6184371694682962,\n",
       " 0.716875)"
      ]
     },
     "execution_count": 628,
     "metadata": {},
     "output_type": "execute_result"
    }
   ],
   "source": [
    "score_mp_context, rank_mp_context = ndcg_at_k_multi(query_embeddings[start_idx:end_idx],doc_embeddings_mp_context,rel_docs[start_idx:end_idx], sub_paragraph_concat_idx, 10)\n",
    "hit_mp_context = hit_ratio_at_k(rank_mp_context, rel_docs[start_idx:end_idx])\n",
    "score_mp_context, np.mean(score_mp_context), np.mean(hit_mp_context)"
   ]
  },
  {
   "cell_type": "code",
   "execution_count": 629,
   "id": "8cb2974f",
   "metadata": {},
   "outputs": [
    {
     "data": {
      "text/plain": [
       "(array([0.61731968, 0.15642624, 0.63643918, 0.76536064, 0.38364914,\n",
       "        0.46927873, 0.76536064, 0.67138607, 0.46927873, 0.        ,\n",
       "        0.37029134, 0.61731968, 0.79286542, 0.61731968, 0.43734888,\n",
       "        0.70391809, 0.3501483 , 0.20210735, 0.46927873, 0.90602544,\n",
       "        0.6049307 , 0.4776237 , 0.46927873, 0.18154179, 0.29608191,\n",
       "        0.43734888, 0.39106561, 0.23463936, 0.81798097, 0.16716045,\n",
       "        0.46927873, 0.63643918, 0.40179982, 0.18154179, 0.        ,\n",
       "        0.67138607, 0.        , 0.16716045, 0.43674671, 0.29608191,\n",
       "        0.46927873, 0.44412287, 0.46927873, 0.29608191, 0.4776237 ,\n",
       "        0.18154179, 0.4776237 , 0.76536064, 0.        , 0.49818926,\n",
       "        0.65082052, 0.14126697, 0.67138607, 0.54007538, 0.90101261,\n",
       "        0.15642624, 0.29608191, 0.46927873, 0.        , 0.55183313,\n",
       "        0.46927873, 0.        , 0.86034433, 0.40179982, 0.20210735,\n",
       "        0.29608191, 0.6182885 , 0.13565197, 0.13565197, 0.70391809,\n",
       "        0.16716045, 0.65082052, 0.46927873, 0.29608191, 0.6049307 ,\n",
       "        0.61966861, 0.45250815, 0.23463936, 1.        , 0.91972079,\n",
       "        0.61314719, 0.8065736 , 0.61314719, 0.91972079, 0.81752959,\n",
       "        0.85034491, 0.61314719, 0.85034491, 0.91972079, 0.        ,\n",
       "        0.38685281, 0.38685281, 0.87721532, 0.61314719, 0.38685281,\n",
       "        1.        , 0.61314719, 0.65092093, 0.85034491, 0.61314719,\n",
       "        0.87721532, 1.        , 0.87721532, 0.83155463, 0.61314719,\n",
       "        0.61314719, 0.87721532, 0.61314719, 0.61314719, 0.91972079,\n",
       "        0.61314719, 0.61314719, 0.79038648, 0.6105457 , 0.58027921,\n",
       "        0.91972079, 0.40298313, 1.        , 1.        , 0.61314719,\n",
       "        0.61314719, 1.        , 0.6934264 , 0.87721532, 0.58027921,\n",
       "        0.57064172, 1.        , 0.91972079, 0.83155463, 1.        ,\n",
       "        1.        , 1.        , 1.        , 0.3065736 , 0.61314719,\n",
       "        0.61314719, 0.61314719, 0.61314719, 0.38685281, 0.61314719,\n",
       "        0.61314719, 0.6934264 , 1.        , 0.61314719, 1.        ,\n",
       "        0.58027921, 0.83155463, 0.85034491, 0.61314719, 0.87721532,\n",
       "        0.17723929, 0.61314719, 1.        , 1.        , 0.61314719,\n",
       "        0.85034491, 0.85034491, 0.61314719, 0.81752959, 0.23719771,\n",
       "        0.61314719, 1.        , 0.3065736 , 1.        , 0.5       ,\n",
       "        0.61314719, 0.91972079, 1.        , 1.        , 0.87721532,\n",
       "        0.61314719, 1.        , 0.61314719, 1.        , 0.61314719,\n",
       "        0.61314719, 1.        , 0.61314719, 0.83155463, 1.        ,\n",
       "        0.85034491, 0.61314719, 0.83155463, 0.61314719, 0.23719771,\n",
       "        1.        , 1.        , 0.87721532, 1.        , 0.        ,\n",
       "        0.61314719, 0.61314719, 0.79772289, 0.61314719, 0.91972079,\n",
       "        0.85034491, 0.61314719, 0.61314719, 0.6934264 , 0.81752959,\n",
       "        0.61314719, 0.26406812, 0.81752959, 0.61314719, 0.91972079,\n",
       "        0.91972079, 0.87721532, 0.61314719, 1.        , 0.79038648,\n",
       "        0.61314719, 0.87721532, 0.38685281, 0.87721532, 0.91972079,\n",
       "        1.        , 1.        , 0.38685281, 0.61314719, 0.61314719,\n",
       "        0.61314719, 0.85034491, 0.38685281, 0.91972079, 0.87721532,\n",
       "        0.91972079, 0.91972079, 1.        , 0.91972079, 0.3065736 ,\n",
       "        0.51095599, 0.67138607, 0.91972079, 0.61314719, 0.83155463,\n",
       "        0.61314719, 0.38685281, 0.85034491, 0.91972079, 0.83155463,\n",
       "        0.79772289, 0.14126697, 0.38685281, 1.        , 0.62405052,\n",
       "        0.85034491, 1.        , 1.        , 0.61314719, 0.61314719,\n",
       "        0.61314719, 0.81752959, 0.61314719, 1.        , 0.38685281,\n",
       "        0.5714285 , 0.49818926, 1.        , 0.38685281, 0.21840744,\n",
       "        0.85034491, 0.61314719, 0.91972079, 0.6934264 , 0.62405052,\n",
       "        0.8065736 , 0.38685281, 0.85034491, 0.61314719, 0.38685281,\n",
       "        0.61314719, 0.61314719, 1.        , 0.8065736 , 0.6934264 ,\n",
       "        0.61314719, 0.85034491, 0.61314719, 0.85034491, 0.87721532,\n",
       "        0.3065736 , 0.8065736 , 0.91972079, 0.79038648, 0.87721532,\n",
       "        0.61314719, 1.        , 0.83155463, 0.61314719, 0.83155463,\n",
       "        0.3065736 , 1.        , 0.91972079, 0.61314719, 0.87721532,\n",
       "        0.79038648, 0.61314719, 0.50126584, 1.        , 0.18154179,\n",
       "        0.38685281, 0.57064172, 0.61314719, 0.91972079, 0.91972079,\n",
       "        0.6934264 , 0.        , 0.91972079, 0.3065736 , 0.61314719,\n",
       "        0.79772289, 0.87721532, 0.8065736 , 0.83155463, 0.85034491,\n",
       "        1.        , 0.38685281, 0.8065736 , 0.61314719, 0.83155463,\n",
       "        0.61314719, 0.87721532, 1.        , 0.61314719, 1.        ,\n",
       "        0.91972079, 0.61314719, 0.85034491, 0.81752959, 0.61314719,\n",
       "        0.83155463, 1.        , 0.61314719, 0.91972079, 1.        ,\n",
       "        0.83155463, 0.91972079, 0.61314719, 0.61314719, 0.87721532,\n",
       "        0.81752959, 0.61314719, 0.61314719, 1.        , 1.        ,\n",
       "        0.61314719, 0.61314719, 0.91972079, 0.61314719, 0.26406812,\n",
       "        0.87721532, 1.        , 0.91972079, 1.        , 0.91972079,\n",
       "        0.61314719, 0.61314719, 0.85034491, 0.46324237, 1.        ,\n",
       "        0.79038648, 1.        , 0.91972079, 1.        , 0.61314719,\n",
       "        0.85034491, 0.91972079, 1.        , 0.31270613, 0.50322519,\n",
       "        0.39038005, 0.        , 0.41442993, 0.16812754, 0.39038005,\n",
       "        0.        , 0.68863427, 0.50789615, 0.50789615, 0.7095272 ,\n",
       "        0.60961995, 0.55850759, 0.        , 0.15101962, 0.39038005,\n",
       "        0.16812754, 0.16812754, 0.12315119, 0.11284514, 0.39038005,\n",
       "        0.51353124, 0.39038005, 0.16812754, 0.        , 0.77573862,\n",
       "        0.19519002, 0.16812754, 0.39038005, 0.13905618, 0.24630239]),\n",
       " 0.6422651022185002,\n",
       " 0.705625)"
      ]
     },
     "execution_count": 629,
     "metadata": {},
     "output_type": "execute_result"
    }
   ],
   "source": [
    "score_post_mean, rank_post_mean = ndcg_at_k_multi(query_embeddings[start_idx:end_idx],mean_neighbor_center,rel_docs[start_idx:end_idx],sub_paragraph_concat_idx, 10)\n",
    "hit_post_mean = hit_ratio_at_k(rank_post_mean, rel_docs[start_idx:end_idx])\n",
    "score_post_mean, np.mean(score_post_mean), np.mean(hit_post_mean)"
   ]
  },
  {
   "cell_type": "code",
   "execution_count": 630,
   "id": "55d1fb7a",
   "metadata": {},
   "outputs": [
    {
     "data": {
      "text/plain": [
       "(array([0.46927873, 0.16716045, 0.43674671, 0.76536064, 0.41618116,\n",
       "        0.29608191, 0.76536064, 0.76536064, 0.76536064, 0.        ,\n",
       "        0.35853359, 0.76536064, 0.90101261, 0.83854653, 0.41618116,\n",
       "        0.53072127, 0.61731968, 0.37029134, 0.46927873, 0.90662761,\n",
       "        0.63643918, 0.63643918, 0.46927873, 0.62570497, 0.46927873,\n",
       "        0.29608191, 0.92178688, 0.46927873, 0.92178688, 0.20210735,\n",
       "        0.29608191, 0.67138607, 0.6049307 , 0.33796803, 0.        ,\n",
       "        0.93252109, 0.46927873, 0.29608191, 0.41618116, 0.29608191,\n",
       "        0.46927873, 0.46324237, 0.46927873, 0.63643918, 0.65082052,\n",
       "        0.20210735, 0.70391809, 0.87107854, 0.        , 0.49818926,\n",
       "        0.85195904, 0.38364914, 0.76536064, 0.87107854, 0.46927873,\n",
       "        0.        , 0.46927873, 0.6049307 , 0.        , 0.57239868,\n",
       "        0.46927873, 0.23463936, 0.90602544, 0.49818926, 0.16716045,\n",
       "        0.29608191, 0.67973105, 0.46927873, 0.4776237 , 0.76536064,\n",
       "        0.16716045, 0.70391809, 0.78647249, 0.46927873, 0.80724676,\n",
       "        0.65082052, 0.46324237, 0.15642624, 1.        , 1.        ,\n",
       "        1.        , 0.83155463, 0.61314719, 1.        , 0.6934264 ,\n",
       "        1.        , 0.61314719, 1.        , 1.        , 0.1934264 ,\n",
       "        0.65092093, 0.65092093, 0.91972079, 0.61314719, 0.37066569,\n",
       "        1.        , 0.61314719, 0.26406812, 0.85034491, 0.61314719,\n",
       "        0.79038648, 0.65092093, 1.        , 1.        , 0.87721532,\n",
       "        0.87721532, 0.85034491, 0.61314719, 1.        , 0.91972079,\n",
       "        0.61314719, 0.83155463, 0.52498103, 0.79286542, 0.91972079,\n",
       "        1.        , 0.36181498, 1.        , 1.        , 0.2043824 ,\n",
       "        0.91972079, 0.91972079, 1.        , 0.87721532, 0.6934264 ,\n",
       "        0.3780021 , 1.        , 1.        , 0.85034491, 1.        ,\n",
       "        1.        , 1.        , 1.        , 0.3065736 , 0.83155463,\n",
       "        0.61314719, 1.        , 0.48247556, 0.60526024, 0.79038648,\n",
       "        0.56409209, 0.91972079, 1.        , 1.        , 1.        ,\n",
       "        0.62405052, 0.83155463, 1.        , 0.85034491, 1.        ,\n",
       "        0.        , 0.61314719, 1.        , 1.        , 0.38685281,\n",
       "        0.85034491, 1.        , 0.61314719, 1.        , 0.81752959,\n",
       "        0.91972079, 0.81752959, 0.3065736 , 0.6934264 , 0.48247556,\n",
       "        0.61314719, 0.91972079, 1.        , 1.        , 1.        ,\n",
       "        0.38685281, 1.        , 0.61314719, 1.        , 0.61314719,\n",
       "        0.91972079, 1.        , 0.61314719, 1.        , 1.        ,\n",
       "        0.6934264 , 0.61314719, 1.        , 0.91972079, 0.3065736 ,\n",
       "        1.        , 1.        , 0.61314719, 1.        , 0.17723929,\n",
       "        0.38685281, 0.61314719, 0.42278983, 0.61314719, 1.        ,\n",
       "        0.81752959, 0.87721532, 0.61314719, 0.57064172, 1.        ,\n",
       "        0.61314719, 0.44864382, 1.        , 0.79772289, 1.        ,\n",
       "        0.91972079, 1.        , 0.83155463, 1.        , 0.81752959,\n",
       "        0.87721532, 1.        , 0.6934264 , 1.        , 0.91972079,\n",
       "        1.        , 1.        , 0.48247556, 0.79038648, 1.        ,\n",
       "        0.91972079, 0.87721532, 0.26406812, 1.        , 0.6934264 ,\n",
       "        0.91972079, 1.        , 1.        , 0.91972079, 0.        ,\n",
       "        0.87721532, 0.63643918, 0.91972079, 0.83155463, 0.81752959,\n",
       "        0.87721532, 0.42177341, 1.        , 0.91972079, 1.        ,\n",
       "        1.        , 0.23463936, 0.5714285 , 1.        , 0.91972079,\n",
       "        1.        , 1.        , 0.91972079, 0.8065736 , 0.87721532,\n",
       "        0.83155463, 0.41183384, 1.        , 1.        , 0.38685281,\n",
       "        0.85034491, 0.43674671, 1.        , 0.3065736 , 0.1934264 ,\n",
       "        0.91972079, 1.        , 0.91972079, 0.6934264 , 0.50126584,\n",
       "        0.91972079, 0.38685281, 0.87721532, 0.91972079, 0.61314719,\n",
       "        0.61314719, 0.87721532, 1.        , 1.        , 0.91972079,\n",
       "        0.61314719, 0.91972079, 0.61314719, 1.        , 0.91972079,\n",
       "        0.56409209, 1.        , 1.        , 0.6934264 , 0.17723929,\n",
       "        0.5912352 , 1.        , 0.91972079, 0.87721532, 1.        ,\n",
       "        0.60526024, 1.        , 1.        , 0.81752959, 0.87721532,\n",
       "        0.87721532, 0.61314719, 0.43062412, 1.        , 0.45250815,\n",
       "        0.65092093, 0.57064172, 1.        , 1.        , 0.91972079,\n",
       "        0.6934264 , 0.26406812, 1.        , 0.44158011, 0.61314719,\n",
       "        0.83155463, 0.8065736 , 1.        , 1.        , 0.85034491,\n",
       "        1.        , 0.83155463, 0.60526024, 0.38685281, 0.87721532,\n",
       "        0.38685281, 1.        , 1.        , 0.61314719, 1.        ,\n",
       "        0.91972079, 0.61314719, 0.85034491, 0.61314719, 0.91972079,\n",
       "        1.        , 1.        , 1.        , 0.91972079, 1.        ,\n",
       "        1.        , 1.        , 0.38685281, 0.61314719, 0.91972079,\n",
       "        1.        , 0.91972079, 1.        , 1.        , 1.        ,\n",
       "        0.61314719, 0.85034491, 1.        , 0.87721532, 0.26406812,\n",
       "        1.        , 1.        , 0.91972079, 1.        , 1.        ,\n",
       "        0.79772289, 0.414437  , 1.        , 0.76536064, 1.        ,\n",
       "        0.87721532, 1.        , 0.91972079, 1.        , 1.        ,\n",
       "        0.85034491, 1.        , 1.        , 0.25657228, 0.35914753,\n",
       "        0.39038005, 0.        , 0.46437289, 0.19519002, 0.39038005,\n",
       "        0.        , 0.69756377, 0.58557007, 0.52943623, 0.7095272 ,\n",
       "        0.60961995, 0.52050673, 0.16812754, 0.15101962, 0.39038005,\n",
       "        0.1175161 , 0.12315119, 0.11284514, 0.        , 0.39038005,\n",
       "        0.50789615, 0.39038005, 0.19519002, 0.        , 0.75983363,\n",
       "        0.15101962, 0.15101962, 0.39038005, 0.19519002, 0.19519002]),\n",
       " 0.7043106820852277,\n",
       " 0.7891666666666666)"
      ]
     },
     "execution_count": 630,
     "metadata": {},
     "output_type": "execute_result"
    }
   ],
   "source": [
    "score_post_weighted, rank_post_weighted = ndcg_at_k_multi(query_embeddings[start_idx:end_idx],weighted_neighbor_center,rel_docs[start_idx:end_idx],sub_paragraph_concat_idx, 10)\n",
    "hit_post_weighted = hit_ratio_at_k(rank_post_weighted, rel_docs[start_idx:end_idx])\n",
    "score_post_weighted, np.mean(score_post_weighted), np.mean(hit_post_weighted)"
   ]
  },
  {
   "cell_type": "code",
   "execution_count": 631,
   "id": "4b1936f8",
   "metadata": {},
   "outputs": [],
   "source": [
    "# hit_key_mp = hit_ratio_at_k(rank_mp, key_doc_list[start_idx:end_idx])\n",
    "# np.mean(hit_key_mp)"
   ]
  },
  {
   "cell_type": "code",
   "execution_count": 632,
   "id": "a1787270",
   "metadata": {},
   "outputs": [
    {
     "name": "stdout",
     "output_type": "stream",
     "text": [
      "0.0\n",
      "0.02\n",
      "0.04\n",
      "0.06\n",
      "0.08\n",
      "0.1\n",
      "0.12\n",
      "0.14\n",
      "0.16\n",
      "0.18\n",
      "0.2\n",
      "0.22\n",
      "0.24\n",
      "0.26\n",
      "0.28\n",
      "0.3\n",
      "0.32\n",
      "0.34\n",
      "0.36\n",
      "0.38\n",
      "0.4\n",
      "0.42\n",
      "0.44\n",
      "0.46\n",
      "0.48\n",
      "0.5\n",
      "0.52\n",
      "0.54\n",
      "0.56\n",
      "0.58\n",
      "0.6\n",
      "0.62\n",
      "0.64\n",
      "0.66\n",
      "0.68\n",
      "0.7000000000000001\n",
      "0.72\n",
      "0.74\n",
      "0.76\n",
      "0.78\n",
      "0.8\n",
      "0.8200000000000001\n",
      "0.84\n",
      "0.86\n",
      "0.88\n",
      "0.9\n",
      "0.92\n",
      "0.9400000000000001\n",
      "0.96\n",
      "0.98\n",
      "1.0\n"
     ]
    }
   ],
   "source": [
    "alphas = np.arange(0, 1.02, 0.02)\n",
    "score_combine_list = []\n",
    "hit_combine_list = []\n",
    "for alpha in alphas:\n",
    "    print(alpha)\n",
    "    doc_embeddings_combine = np.zeros_like(doc_embeddings)\n",
    "    for i in range(7521):\n",
    "        doc_embeddings_combine[i] = alpha * doc_embeddings[i] + (1-alpha) * doc_embeddings_mp_context[sub_paragraph_concat_idx.index(sub_paragraph_concat_idx[i])]\n",
    "    score_combine, rank_combine = ndcg_at_k_multi(query_embeddings[start_idx:end_idx],doc_embeddings_combine,rel_docs[start_idx:end_idx], sub_paragraph_concat_idx, 10)\n",
    "    hit_combine = hit_ratio_at_k(rank_combine, rel_docs[start_idx:end_idx])\n",
    "    score_combine_list.append(np.mean(score_combine))\n",
    "    hit_combine_list.append(np.mean(hit_combine))"
   ]
  },
  {
   "cell_type": "code",
   "execution_count": 633,
   "id": "27780612",
   "metadata": {},
   "outputs": [
    {
     "data": {
      "text/plain": [
       "(0.6691033296184529, 0.34, 0.6184371694682962, 0.540983626246185)"
      ]
     },
     "execution_count": 633,
     "metadata": {},
     "output_type": "execute_result"
    }
   ],
   "source": [
    "np.max(score_combine_list), alphas[np.argmax(score_combine_list)], score_combine_list[0], score_combine_list[-1]"
   ]
  },
  {
   "cell_type": "code",
   "execution_count": 634,
   "id": "7d505e2c",
   "metadata": {},
   "outputs": [
    {
     "data": {
      "text/plain": [
       "(0.744375, 0.24)"
      ]
     },
     "execution_count": 634,
     "metadata": {},
     "output_type": "execute_result"
    }
   ],
   "source": [
    "np.max(hit_combine_list), alphas[np.argmax(hit_combine_list)]"
   ]
  },
  {
   "cell_type": "code",
   "execution_count": 635,
   "id": "2f3c51c9",
   "metadata": {},
   "outputs": [
    {
     "name": "stdout",
     "output_type": "stream",
     "text": [
      "0.0\n",
      "0.02\n",
      "0.04\n",
      "0.06\n",
      "0.08\n",
      "0.1\n",
      "0.12\n",
      "0.14\n",
      "0.16\n",
      "0.18\n",
      "0.2\n",
      "0.22\n",
      "0.24\n",
      "0.26\n",
      "0.28\n",
      "0.3\n",
      "0.32\n",
      "0.34\n",
      "0.36\n",
      "0.38\n",
      "0.4\n",
      "0.42\n",
      "0.44\n",
      "0.46\n",
      "0.48\n",
      "0.5\n",
      "0.52\n",
      "0.54\n",
      "0.56\n",
      "0.58\n",
      "0.6\n",
      "0.62\n",
      "0.64\n",
      "0.66\n",
      "0.68\n",
      "0.7000000000000001\n",
      "0.72\n",
      "0.74\n",
      "0.76\n",
      "0.78\n",
      "0.8\n",
      "0.8200000000000001\n",
      "0.84\n",
      "0.86\n",
      "0.88\n",
      "0.9\n",
      "0.92\n",
      "0.9400000000000001\n",
      "0.96\n",
      "0.98\n",
      "1.0\n"
     ]
    }
   ],
   "source": [
    "alphas = np.arange(0, 1.02, 0.02)\n",
    "score_combine_list_mean_neighbor = []\n",
    "hit_combine_list_mean_neighbor = []\n",
    "for alpha in alphas:\n",
    "    print(alpha)\n",
    "    doc_embeddings_combine = np.zeros_like(doc_embeddings)\n",
    "    for i in range(7521):\n",
    "        doc_embeddings_combine[i] = alpha * doc_embeddings[i] + (1-alpha) * neighbor_embeddings_combine[sub_paragraph_concat_idx.index(sub_paragraph_concat_idx[i])]\n",
    "    score_combine, rank_combine = ndcg_at_k_multi(query_embeddings[start_idx:end_idx],doc_embeddings_combine,rel_docs[start_idx:end_idx], sub_paragraph_concat_idx, 10)\n",
    "    hit_combine = hit_ratio_at_k(rank_combine, rel_docs[start_idx:end_idx])\n",
    "    score_combine_list_mean_neighbor.append(np.mean(score_combine))\n",
    "    hit_combine_list_mean_neighbor.append(np.mean(hit_combine))"
   ]
  },
  {
   "cell_type": "code",
   "execution_count": 636,
   "id": "1a6f6286",
   "metadata": {},
   "outputs": [
    {
     "name": "stdout",
     "output_type": "stream",
     "text": [
      "0.0\n",
      "0.02\n",
      "0.04\n",
      "0.06\n",
      "0.08\n",
      "0.1\n",
      "0.12\n",
      "0.14\n",
      "0.16\n",
      "0.18\n",
      "0.2\n",
      "0.22\n",
      "0.24\n",
      "0.26\n",
      "0.28\n",
      "0.3\n",
      "0.32\n",
      "0.34\n",
      "0.36\n",
      "0.38\n",
      "0.4\n",
      "0.42\n",
      "0.44\n",
      "0.46\n",
      "0.48\n",
      "0.5\n",
      "0.52\n",
      "0.54\n",
      "0.56\n",
      "0.58\n",
      "0.6\n",
      "0.62\n",
      "0.64\n",
      "0.66\n",
      "0.68\n",
      "0.7000000000000001\n",
      "0.72\n",
      "0.74\n",
      "0.76\n",
      "0.78\n",
      "0.8\n",
      "0.8200000000000001\n",
      "0.84\n",
      "0.86\n",
      "0.88\n",
      "0.9\n",
      "0.92\n",
      "0.9400000000000001\n",
      "0.96\n",
      "0.98\n",
      "1.0\n"
     ]
    }
   ],
   "source": [
    "alphas = np.arange(0, 1.02, 0.02)\n",
    "score_combine_list_weight_neighbor = []\n",
    "hit_combine_list_weight_neighbor = []\n",
    "for alpha in alphas:\n",
    "    print(alpha)\n",
    "    doc_embeddings_combine = np.zeros_like(doc_embeddings)\n",
    "    for i in range(7521):\n",
    "        doc_embeddings_combine[i] = alpha * doc_embeddings[i] + (1-alpha) * neighbor_embeddings_combine_weighted[sub_paragraph_concat_idx.index(sub_paragraph_concat_idx[i])]\n",
    "    score_combine, rank_combine = ndcg_at_k_multi(query_embeddings[start_idx:end_idx],doc_embeddings_combine,rel_docs[start_idx:end_idx], sub_paragraph_concat_idx, 10)\n",
    "    hit_combine = hit_ratio_at_k(rank_combine, rel_docs[start_idx:end_idx])\n",
    "    score_combine_list_weight_neighbor.append(np.mean(score_combine))\n",
    "    hit_combine_list_weight_neighbor.append(np.mean(hit_combine))"
   ]
  },
  {
   "cell_type": "code",
   "execution_count": 637,
   "id": "63ac2524",
   "metadata": {},
   "outputs": [
    {
     "name": "stdout",
     "output_type": "stream",
     "text": [
      "0.0\n",
      "0.02\n",
      "0.04\n",
      "0.06\n",
      "0.08\n",
      "0.1\n",
      "0.12\n",
      "0.14\n",
      "0.16\n",
      "0.18\n",
      "0.2\n",
      "0.22\n",
      "0.24\n",
      "0.26\n",
      "0.28\n",
      "0.3\n",
      "0.32\n",
      "0.34\n",
      "0.36\n",
      "0.38\n",
      "0.4\n",
      "0.42\n",
      "0.44\n",
      "0.46\n",
      "0.48\n",
      "0.5\n",
      "0.52\n",
      "0.54\n",
      "0.56\n",
      "0.58\n",
      "0.6\n",
      "0.62\n",
      "0.64\n",
      "0.66\n",
      "0.68\n",
      "0.7000000000000001\n",
      "0.72\n",
      "0.74\n",
      "0.76\n",
      "0.78\n",
      "0.8\n",
      "0.8200000000000001\n",
      "0.84\n",
      "0.86\n",
      "0.88\n",
      "0.9\n",
      "0.92\n",
      "0.9400000000000001\n",
      "0.96\n",
      "0.98\n",
      "1.0\n"
     ]
    }
   ],
   "source": [
    "alphas = np.arange(0, 1.02, 0.02)\n",
    "score_combine_list_concat = []\n",
    "hit_combine_list_concat = []\n",
    "for alpha in alphas:\n",
    "    print(alpha)\n",
    "    doc_embeddings_combine = np.zeros_like(doc_embeddings)\n",
    "    for i in range(7521):\n",
    "        doc_embeddings_combine[i] = alpha * doc_embeddings[i] + (1-alpha) * doc_embeddings_concat[sub_paragraph_concat_idx.index(sub_paragraph_concat_idx[i])]\n",
    "    score_combine, rank_combine = ndcg_at_k_multi(query_embeddings[start_idx:end_idx],doc_embeddings_combine,rel_docs[start_idx:end_idx], sub_paragraph_concat_idx, 10)\n",
    "    hit_combine = hit_ratio_at_k(rank_combine, rel_docs[start_idx:end_idx])\n",
    "    score_combine_list_concat.append(np.mean(score_combine))\n",
    "    hit_combine_list_concat.append(np.mean(hit_combine))"
   ]
  },
  {
   "cell_type": "code",
   "execution_count": 638,
   "id": "4e4a4b75",
   "metadata": {},
   "outputs": [
    {
     "name": "stdout",
     "output_type": "stream",
     "text": [
      "0.0\n",
      "0.02\n",
      "0.04\n",
      "0.06\n",
      "0.08\n",
      "0.1\n",
      "0.12\n",
      "0.14\n",
      "0.16\n",
      "0.18\n",
      "0.2\n",
      "0.22\n",
      "0.24\n",
      "0.26\n",
      "0.28\n",
      "0.3\n",
      "0.32\n",
      "0.34\n",
      "0.36\n",
      "0.38\n",
      "0.4\n",
      "0.42\n",
      "0.44\n",
      "0.46\n",
      "0.48\n",
      "0.5\n",
      "0.52\n",
      "0.54\n",
      "0.56\n",
      "0.58\n",
      "0.6\n",
      "0.62\n",
      "0.64\n",
      "0.66\n",
      "0.68\n",
      "0.7000000000000001\n",
      "0.72\n",
      "0.74\n",
      "0.76\n",
      "0.78\n",
      "0.8\n",
      "0.8200000000000001\n",
      "0.84\n",
      "0.86\n",
      "0.88\n",
      "0.9\n",
      "0.92\n",
      "0.9400000000000001\n",
      "0.96\n",
      "0.98\n",
      "1.0\n"
     ]
    }
   ],
   "source": [
    "alphas = np.arange(0, 1.02, 0.02)\n",
    "score_combine_list_mp = []\n",
    "hit_combine_list_mp = []\n",
    "for alpha in alphas:\n",
    "    print(alpha)\n",
    "    doc_embeddings_combine = np.zeros_like(doc_embeddings)\n",
    "    for i in range(7521):\n",
    "        doc_embeddings_combine[i] = alpha * doc_embeddings[i] + (1-alpha) * doc_embeddings_mp[sub_paragraph_concat_idx.index(sub_paragraph_concat_idx[i])]\n",
    "    score_combine, rank_combine = ndcg_at_k_multi(query_embeddings[start_idx:end_idx],doc_embeddings_combine,rel_docs[start_idx:end_idx], sub_paragraph_concat_idx, 10)\n",
    "    hit_combine = hit_ratio_at_k(rank_combine, rel_docs[start_idx:end_idx])\n",
    "    score_combine_list_mp.append(np.mean(score_combine))\n",
    "    hit_combine_list_mp.append(np.mean(hit_combine))"
   ]
  },
  {
   "cell_type": "code",
   "execution_count": 639,
   "id": "ae17bbce",
   "metadata": {},
   "outputs": [
    {
     "name": "stdout",
     "output_type": "stream",
     "text": [
      "0.0\n",
      "0.02\n",
      "0.04\n",
      "0.06\n",
      "0.08\n",
      "0.1\n",
      "0.12\n",
      "0.14\n",
      "0.16\n",
      "0.18\n",
      "0.2\n",
      "0.22\n",
      "0.24\n",
      "0.26\n",
      "0.28\n",
      "0.3\n",
      "0.32\n",
      "0.34\n",
      "0.36\n",
      "0.38\n",
      "0.4\n",
      "0.42\n",
      "0.44\n",
      "0.46\n",
      "0.48\n",
      "0.5\n",
      "0.52\n",
      "0.54\n",
      "0.56\n",
      "0.58\n",
      "0.6\n",
      "0.62\n",
      "0.64\n",
      "0.66\n",
      "0.68\n",
      "0.7000000000000001\n",
      "0.72\n",
      "0.74\n",
      "0.76\n",
      "0.78\n",
      "0.8\n",
      "0.8200000000000001\n",
      "0.84\n",
      "0.86\n",
      "0.88\n",
      "0.9\n",
      "0.92\n",
      "0.9400000000000001\n",
      "0.96\n",
      "0.98\n",
      "1.0\n"
     ]
    }
   ],
   "source": [
    "alphas = np.arange(0, 1.02, 0.02)\n",
    "score_combine_list_mp_context = []\n",
    "hit_combine_list_mp_context = []\n",
    "for alpha in alphas:\n",
    "    print(alpha)\n",
    "    doc_embeddings_combine = np.zeros_like(doc_embeddings)\n",
    "    for i in range(7521):\n",
    "        doc_embeddings_combine[i] = alpha * doc_embeddings[i] + (1-alpha) * doc_embeddings_mp_context[sub_paragraph_concat_idx.index(sub_paragraph_concat_idx[i])]\n",
    "    score_combine, rank_combine = ndcg_at_k_multi(query_embeddings[start_idx:end_idx],doc_embeddings_combine,rel_docs[start_idx:end_idx], sub_paragraph_concat_idx, 10)\n",
    "    hit_combine = hit_ratio_at_k(rank_combine, rel_docs[start_idx:end_idx])\n",
    "    score_combine_list_mp_context.append(np.mean(score_combine))\n",
    "    hit_combine_list_mp_context.append(np.mean(hit_combine))"
   ]
  },
  {
   "cell_type": "code",
   "execution_count": 640,
   "id": "ccc42588",
   "metadata": {},
   "outputs": [],
   "source": [
    "import matplotlib.pyplot as plt\n",
    "import numpy as np\n",
    "\n",
    "def plot_alpha_variance(save_path=\"alpha_variance.pdf\"):\n",
    "    # X-axis: alpha values\n",
    "    alphas = np.arange(0, 1.02, 0.02)\n",
    "\n",
    "    # Create plot\n",
    "    plt.figure(figsize=(8, 6))\n",
    "    plt.plot(alphas, score_combine_list_mean_neighbor, marker=\"o\", markersize=2, label=\"Mean Neighbor\")\n",
    "    plt.plot(alphas, score_combine_list_weight_neighbor, marker=\"o\", markersize=2, label=\"Weighted Mean Neighbor\")\n",
    "    plt.plot(alphas, score_combine_list_concat, marker=\"o\", markersize=2, label=\"Struc-Emb-Seq\")\n",
    "    plt.plot(alphas, score_combine_list_mp, marker=\"o\", markersize=2, label=\"Struc-Emb-Par\")\n",
    "    plt.plot(alphas, score_combine_list_mp_context, marker=\"o\", markersize=2, label=\"Struc-Emb-Par-Distill\")\n",
    "    # plt.figure(figsize=(8, 6))\n",
    "    # plt.plot(alphas, score_combine_list_mean_neighbor, label=\"Mean Neighbor\")\n",
    "    # plt.plot(alphas, score_combine_list_weight_neighbor, label=\"Weighted Mean Neighbor\")\n",
    "    # plt.plot(alphas, score_combine_list_concat, label=\"Struc-Emb-Seq\")\n",
    "    # plt.plot(alphas, score_combine_list_mp, label=\"Struc-Emb-Par\")\n",
    "    # plt.plot(alphas, score_combine_list_mp_context, label=\"Struc-Emb-Par-Distill\")\n",
    "\n",
    "    # Labels, title, legend, and grid (larger fonts, consistent with your style)\n",
    "    plt.xlabel(r\"Interpolation Weight $\\alpha$\", fontsize=15)\n",
    "    plt.ylabel(\"Retrieval performance (nDCG@10)\", fontsize=15)\n",
    "    plt.title(\"Performance Variation with Interpolation Weight\", fontsize=16)\n",
    "    plt.legend(fontsize=12, loc=\"best\")\n",
    "    plt.xticks(fontsize=13)\n",
    "    plt.yticks(fontsize=13)\n",
    "    plt.grid(True, linestyle=\"--\", alpha=0.6)\n",
    "    plt.tight_layout()\n",
    "\n",
    "    # Save and show\n",
    "    plt.savefig(save_path, format=\"pdf\")\n",
    "    plt.show()\n",
    "    plt.close()\n"
   ]
  },
  {
   "cell_type": "code",
   "execution_count": 641,
   "id": "5e5f965d",
   "metadata": {},
   "outputs": [
    {
     "data": {
      "image/png": "[encoded data removed]",
      "text/plain": [
       "<Figure size 800x600 with 1 Axes>"
      ]
     },
     "metadata": {},
     "output_type": "display_data"
    }
   ],
   "source": [
    "plot_alpha_variance(save_path=\"alpha_variance_0.6B_top5_degree.pdf\")"
   ]
  }
 ],
 "metadata": {
  "kernelspec": {
   "display_name": "nvembed",
   "language": "python",
   "name": "python3"
  },
  "language_info": {
   "codemirror_mode": {
    "name": "ipython",
    "version": 3
   },
   "file_extension": ".py",
   "mimetype": "text/x-python",
   "name": "python",
   "nbconvert_exporter": "python",
   "pygments_lexer": "ipython3",
   "version": "3.10.16"
  }
 },
 "nbformat": 4,
 "nbformat_minor": 5
}
